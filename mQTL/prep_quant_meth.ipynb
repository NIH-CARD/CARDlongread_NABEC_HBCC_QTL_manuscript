{
 "cells": [
  {
   "cell_type": "markdown",
   "id": "7e052286",
   "metadata": {
    "papermill": {
     "duration": 0.01824,
     "end_time": "2024-08-26T14:42:28.961624",
     "exception": false,
     "start_time": "2024-08-26T14:42:28.943384",
     "status": "completed"
    },
    "tags": []
   },
   "source": [
    "## Notebook to prep NABEC/HBCC meth data"
   ]
  },
  {
   "cell_type": "code",
   "execution_count": null,
   "id": "64e3e352-78de-4b5f-93de-b20a77f1ca4b",
   "metadata": {
    "execution": {
     "iopub.execute_input": "2024-08-26T14:42:28.999791Z",
     "iopub.status.busy": "2024-08-26T14:42:28.999240Z",
     "iopub.status.idle": "2024-08-26T14:42:29.134187Z",
     "shell.execute_reply": "2024-08-26T14:42:29.133290Z"
    },
    "papermill": {
     "duration": 0.156506,
     "end_time": "2024-08-26T14:42:29.137066",
     "exception": false,
     "start_time": "2024-08-26T14:42:28.980560",
     "status": "completed"
    },
    "tags": []
   },
   "outputs": [],
   "source": [
    "!date"
   ]
  },
  {
   "cell_type": "markdown",
   "id": "c8f1b902",
   "metadata": {
    "papermill": {
     "duration": 0.01774,
     "end_time": "2024-08-26T14:42:29.177501",
     "exception": false,
     "start_time": "2024-08-26T14:42:29.159761",
     "status": "completed"
    },
    "tags": []
   },
   "source": [
    "#### import libraries"
   ]
  },
  {
   "cell_type": "code",
   "execution_count": null,
   "id": "54f69249-335e-47a2-92fd-c2fe572e4f59",
   "metadata": {
    "execution": {
     "iopub.execute_input": "2024-08-26T14:42:29.215534Z",
     "iopub.status.busy": "2024-08-26T14:42:29.215090Z",
     "iopub.status.idle": "2024-08-26T14:42:40.751760Z",
     "shell.execute_reply": "2024-08-26T14:42:40.750641Z"
    },
    "papermill": {
     "duration": 11.559194,
     "end_time": "2024-08-26T14:42:40.753928",
     "exception": false,
     "start_time": "2024-08-26T14:42:29.194734",
     "status": "completed"
    },
    "tags": []
   },
   "outputs": [],
   "source": [
    "from pandas import read_csv, read_hdf, DataFrame, read_pickle\n",
    "import nb_util_funcs as nuf\n",
    "from random import sample\n",
    "import seaborn as sns\n",
    "from seaborn import distplot , scatterplot, heatmap\n",
    "import matplotlib.pyplot as plt\n",
    "from matplotlib.pyplot import rc_context\n",
    "import ppscore as pps\n",
    "import pandas as pd\n",
    "import os\n",
    "import numpy as np\n",
    "\n",
    "import warnings\n",
    "warnings.filterwarnings('ignore')\n",
    "\n",
    "%matplotlib inline\n",
    "# for white background of figures (only for docs rendering)\n",
    "%config InlineBackend.print_figure_kwargs={'facecolor' : \"w\"}\n",
    "%config InlineBackend.figure_format='retina'"
   ]
  },
  {
   "cell_type": "markdown",
   "id": "01e5e08c",
   "metadata": {
    "papermill": {
     "duration": 0.036773,
     "end_time": "2024-08-26T14:42:40.831077",
     "exception": false,
     "start_time": "2024-08-26T14:42:40.794304",
     "status": "completed"
    },
    "tags": []
   },
   "source": [
    "#### set notebooks variables"
   ]
  },
  {
   "cell_type": "code",
   "execution_count": null,
   "id": "891a1319-e86e-48f6-85fd-8eaf0397fa5c",
   "metadata": {
    "execution": {
     "iopub.execute_input": "2024-08-26T14:42:40.921111Z",
     "iopub.status.busy": "2024-08-26T14:42:40.920708Z",
     "iopub.status.idle": "2024-08-26T14:42:40.924566Z",
     "shell.execute_reply": "2024-08-26T14:42:40.923945Z"
    },
    "papermill": {
     "duration": 0.023793,
     "end_time": "2024-08-26T14:42:40.926256",
     "exception": false,
     "start_time": "2024-08-26T14:42:40.902463",
     "status": "completed"
    },
    "tags": [
     "injected-parameters"
    ]
   },
   "outputs": [],
   "source": [
    "# Parameters\n",
    "cohort = \"nabec\"\n",
    "version = \"Aug_2024\"\n",
    "target = \"tss_start_5cpg\"\n",
    "varianttype_caller = \"SV_sniffles\"\n"
   ]
  },
  {
   "cell_type": "code",
   "execution_count": null,
   "id": "72d3dba3-fe9b-414c-b632-b9d7d8f4a38e",
   "metadata": {
    "execution": {
     "iopub.execute_input": "2024-08-26T14:42:40.961912Z",
     "iopub.status.busy": "2024-08-26T14:42:40.961517Z",
     "iopub.status.idle": "2024-08-26T14:42:40.974650Z",
     "shell.execute_reply": "2024-08-26T14:42:40.974002Z"
    },
    "papermill": {
     "duration": 0.033197,
     "end_time": "2024-08-26T14:42:40.976323",
     "exception": false,
     "start_time": "2024-08-26T14:42:40.943126",
     "status": "completed"
    },
    "tags": []
   },
   "outputs": [],
   "source": [
    "# naming\n",
    "##cohort_build = f'{cohort}.{version}'\n",
    "modality = 'METH'\n",
    "set_name = f'{cohort}_{version}_{target}_{varianttype_caller}'\n",
    "\n",
    "in_dir = f'/data/CARDPB/data/NABEC/projects/QTL_paper_2024/SV-mQTL'\n",
    "geno_dir = f'{in_dir}/genotypes'\n",
    "quants_dir = f'{in_dir}/expression'\n",
    "info_dir = f'{in_dir}/sample_info'\n",
    "\n",
    "# in files\n",
    "quants_file = f'{quants_dir}/{cohort}_{target}_avgmod.bed'\n",
    "covariates_file = f'{info_dir}/nabec.aug2020.sample_info.txt'\n",
    "if features_file = f'{quants_dir}/EPIC_annotation_hg38.txt'    \n",
    "\n",
    "elif modality == 'RNAB' :\n",
    "    features_file = '/data/CARDPB/resources/hg38/gencode.v43.primary_assembly.annotation.pkl'\n",
    "\n",
    "\n",
    "if varianttype_caller =='SNV_illumina':\n",
    "    bfile_prefix_path = f'{geno_dir}/MERGED_MAF_GENO005_plink19_ONTsamples'\n",
    "    genetic_pcs_file = f'{in_dir}/sample_info/MERGED_MAF_GENO005_plink19_ONTsamples_pca20.txt'\n",
    "elif varianttype_caller == 'SV_sniffles':\n",
    "    bfile_prefix_path = f'{geno_dir}/NABEC_snifles2_2_multisample_biggerthan50bps.sorted_noBlacklist_noSuperDups_02092024_MAF_GENO_005_updateid'\n",
    "    genetic_pcs_file = f'{in_dir}/sample_info/NABEC_snifles2_2_multisample_biggerthan50bps.sorted_noBlacklist_noSuperDups_02092024_MAF_GENO_005_updateid_pca20.txt'\n",
    "elif varianttype_caller == 'SNV_SV_sniffles':\n",
    "    bfile_prefix_path = f'{geno_dir}/SNV_sniffles_SV_merged'\n",
    "    genetic_pcs_file = f'{in_dir}/sample_info/SNV_sniffles_SV_merged_pca20.txt'    \n",
    "    \n",
    "# out files\n",
    "umap_covs_file = f'{info_dir}/{set_name}.umap.covs.csv'\n",
    "scaled_file = f'{quants_dir}/{set_name}.scaled.hdf5'\n",
    "tnsrqtl_pheno_nonadj_file = f'{quants_dir}/{cohort}_{version}_{target}.scaled.bed.gz'\n",
    "percentage_pheno_file = f'{quants_dir}/{cohort}_{version}_{target}.raw_percentage.bed.gz'\n",
    "\n",
    "# constants\n",
    "if modality == 'METH':\n",
    "    min_detection_rate = 1.00\n",
    "else:\n",
    "    min_detection_rate = 0.25\n",
    "\n",
    "\n",
    "DEBUG = False\n",
    "low_var_quartile = '75%'\n",
    "dpi_value = 50"
   ]
  },
  {
   "cell_type": "markdown",
   "id": "21186721",
   "metadata": {
    "papermill": {
     "duration": 0.017441,
     "end_time": "2024-08-26T14:42:41.046248",
     "exception": false,
     "start_time": "2024-08-26T14:42:41.028807",
     "status": "completed"
    },
    "tags": []
   },
   "source": [
    "### load input data"
   ]
  },
  {
   "cell_type": "markdown",
   "id": "5623e19c",
   "metadata": {
    "papermill": {
     "duration": 0.019848,
     "end_time": "2024-08-26T14:42:41.082936",
     "exception": false,
     "start_time": "2024-08-26T14:42:41.063088",
     "status": "completed"
    },
    "tags": []
   },
   "source": [
    "#### load the quantified features matrix"
   ]
  },
  {
   "cell_type": "code",
   "execution_count": null,
   "id": "39403f7e-c0f1-4851-a601-ae2c803068bb",
   "metadata": {
    "execution": {
     "iopub.execute_input": "2024-08-26T14:42:41.119511Z",
     "iopub.status.busy": "2024-08-26T14:42:41.119088Z",
     "iopub.status.idle": "2024-08-26T14:42:41.652430Z",
     "shell.execute_reply": "2024-08-26T14:42:41.651750Z"
    },
    "papermill": {
     "duration": 0.553325,
     "end_time": "2024-08-26T14:42:41.654192",
     "exception": false,
     "start_time": "2024-08-26T14:42:41.100867",
     "status": "completed"
    },
    "tags": []
   },
   "outputs": [],
   "source": [
    "%%time\n",
    "quants_df = read_csv(quants_file,header=0,sep='\\t')\n",
    "\n",
    "#quants_df = read_csv(quants_file,index_col='phenotype_id', header=0,sep='\\t').iloc[:,4:].transpose()\n",
    "#.set_index('ID').T\n",
    "print(quants_df.shape)\n",
    "\n",
    "if DEBUG:\n",
    "    display(quants_df.head())"
   ]
  },
  {
   "cell_type": "code",
   "execution_count": null,
   "id": "30e7673a-33cd-42c8-a968-a0df8e603a31",
   "metadata": {
    "execution": {
     "iopub.execute_input": "2024-08-26T14:42:41.692265Z",
     "iopub.status.busy": "2024-08-26T14:42:41.691850Z",
     "iopub.status.idle": "2024-08-26T14:42:41.698468Z",
     "shell.execute_reply": "2024-08-26T14:42:41.697860Z"
    },
    "papermill": {
     "duration": 0.026832,
     "end_time": "2024-08-26T14:42:41.700144",
     "exception": false,
     "start_time": "2024-08-26T14:42:41.673312",
     "status": "completed"
    },
    "tags": []
   },
   "outputs": [],
   "source": [
    "quants_df.shape"
   ]
  },
  {
   "cell_type": "code",
   "execution_count": null,
   "id": "d9be3a5b-c53e-4137-a76a-ebcd9f5956c1",
   "metadata": {
    "execution": {
     "iopub.execute_input": "2024-08-26T14:42:41.736742Z",
     "iopub.status.busy": "2024-08-26T14:42:41.736340Z",
     "iopub.status.idle": "2024-08-26T14:42:41.740598Z",
     "shell.execute_reply": "2024-08-26T14:42:41.739968Z"
    },
    "papermill": {
     "duration": 0.024206,
     "end_time": "2024-08-26T14:42:41.742209",
     "exception": false,
     "start_time": "2024-08-26T14:42:41.718003",
     "status": "completed"
    },
    "tags": []
   },
   "outputs": [],
   "source": [
    "if target == \"geneBodies\":\n",
    "    quants_df['name'] = quants_df['name'].str.split(';',expand=True)[3].str.split('=',expand=True)[1]"
   ]
  },
  {
   "cell_type": "code",
   "execution_count": null,
   "id": "77d3ea13-04a7-443f-92d6-886c9505d3a1",
   "metadata": {
    "execution": {
     "iopub.execute_input": "2024-08-26T14:42:41.778732Z",
     "iopub.status.busy": "2024-08-26T14:42:41.778329Z",
     "iopub.status.idle": "2024-08-26T14:42:41.783177Z",
     "shell.execute_reply": "2024-08-26T14:42:41.782531Z"
    },
    "papermill": {
     "duration": 0.025427,
     "end_time": "2024-08-26T14:42:41.784816",
     "exception": false,
     "start_time": "2024-08-26T14:42:41.759389",
     "status": "completed"
    },
    "tags": []
   },
   "outputs": [],
   "source": [
    "n = -1\n",
    "for i in quants_df.columns:\n",
    "    n += 1\n",
    "    if \"avgMod\" not in i:\n",
    "        print(i)\n",
    "    else:\n",
    "        break\n",
    "print(f\"first column num of phenotype is {n}\")"
   ]
  },
  {
   "cell_type": "code",
   "execution_count": null,
   "id": "279b7547-fefb-4005-94b4-51db7eaa1d67",
   "metadata": {
    "execution": {
     "iopub.execute_input": "2024-08-26T14:42:41.822740Z",
     "iopub.status.busy": "2024-08-26T14:42:41.822332Z",
     "iopub.status.idle": "2024-08-26T14:42:41.827595Z",
     "shell.execute_reply": "2024-08-26T14:42:41.826950Z"
    },
    "papermill": {
     "duration": 0.026088,
     "end_time": "2024-08-26T14:42:41.829228",
     "exception": false,
     "start_time": "2024-08-26T14:42:41.803140",
     "status": "completed"
    },
    "tags": []
   },
   "outputs": [],
   "source": [
    "INFO = quants_df.iloc[:,0:n]\n",
    "INFO.columns.values[3] = 'NAME'\n",
    "INFO.index = INFO['chrom'].astype('str')  + \"_\" + INFO['start'].astype('str')+ \"_\" + INFO['end'].astype('str')  + \"_\" + INFO['NAME']\n",
    "INFO = INFO.rename(columns={\"chrom\":\"chr\"})"
   ]
  },
  {
   "cell_type": "code",
   "execution_count": null,
   "id": "04465947-60dd-4e1a-a5b1-4ef6159d8739",
   "metadata": {
    "execution": {
     "iopub.execute_input": "2024-08-26T14:42:41.935212Z",
     "iopub.status.busy": "2024-08-26T14:42:41.934795Z",
     "iopub.status.idle": "2024-08-26T14:42:41.950845Z",
     "shell.execute_reply": "2024-08-26T14:42:41.950158Z"
    },
    "papermill": {
     "duration": 0.036481,
     "end_time": "2024-08-26T14:42:41.952613",
     "exception": false,
     "start_time": "2024-08-26T14:42:41.916132",
     "status": "completed"
    },
    "tags": []
   },
   "outputs": [],
   "source": [
    "quants_df = quants_df.iloc[:,n:]\n",
    "quants_df.columns = quants_df.columns.str.replace('avgMod_NABEC_','').str.replace('_FTX','')\n",
    "quants_df.index = INFO['chr'].astype('str')  + \"_\" + INFO['start'].astype('str')+ \"_\" + INFO['end'].astype('str')  + \"_\" + INFO['NAME']\n",
    "quants_df = quants_df.T\n",
    "quants_df.to_csv(percentage_pheno_file)"
   ]
  },
  {
   "cell_type": "markdown",
   "id": "97aa6531",
   "metadata": {
    "papermill": {
     "duration": 0.019111,
     "end_time": "2024-08-26T14:42:55.324206",
     "exception": false,
     "start_time": "2024-08-26T14:42:55.305095",
     "status": "completed"
    },
    "tags": []
   },
   "source": [
    "#### load covariates files"
   ]
  },
  {
   "cell_type": "code",
   "execution_count": null,
   "id": "6f439598-20d5-4733-afc3-4117b67f5dfd",
   "metadata": {
    "execution": {
     "iopub.execute_input": "2024-08-26T14:42:55.363886Z",
     "iopub.status.busy": "2024-08-26T14:42:55.363405Z",
     "iopub.status.idle": "2024-08-26T14:42:55.382456Z",
     "shell.execute_reply": "2024-08-26T14:42:55.381779Z"
    },
    "papermill": {
     "duration": 0.04113,
     "end_time": "2024-08-26T14:42:55.384113",
     "exception": false,
     "start_time": "2024-08-26T14:42:55.342983",
     "status": "completed"
    },
    "tags": []
   },
   "outputs": [],
   "source": [
    "covs_df = read_csv(covariates_file, index_col=0)\n",
    "# drop any duplicated indices\n",
    "print(covs_df.shape)\n",
    "covs_df = covs_df[~covs_df.index.duplicated(keep='first')]\n",
    "print(f'covariates shape {covs_df.shape}')\n",
    "if DEBUG:\n",
    "    display(covs_df.sample(5))"
   ]
  },
  {
   "cell_type": "code",
   "execution_count": null,
   "id": "03b0b10f-9276-4573-ad9b-5d92d23bcd0c",
   "metadata": {
    "execution": {
     "iopub.execute_input": "2024-08-26T14:42:55.498742Z",
     "iopub.status.busy": "2024-08-26T14:42:55.498334Z",
     "iopub.status.idle": "2024-08-26T14:42:55.505891Z",
     "shell.execute_reply": "2024-08-26T14:42:55.505251Z"
    },
    "papermill": {
     "duration": 0.030011,
     "end_time": "2024-08-26T14:42:55.507546",
     "exception": false,
     "start_time": "2024-08-26T14:42:55.477535",
     "status": "completed"
    },
    "tags": []
   },
   "outputs": [],
   "source": [
    "with open('/data/CARDPB/data/NABEC/projects/QTL_paper_2024/SV-eQTL/notebooks/ONT_samples.txt', 'r') as f:\n",
    "    ONT_samples=[i.replace('\\n','') for i in f]"
   ]
  },
  {
   "cell_type": "code",
   "execution_count": null,
   "id": "73b69ed2-dde1-44cc-9e3b-bedb35cb5aa0",
   "metadata": {
    "execution": {
     "iopub.execute_input": "2024-08-26T14:42:55.549112Z",
     "iopub.status.busy": "2024-08-26T14:42:55.548700Z",
     "iopub.status.idle": "2024-08-26T14:42:55.561940Z",
     "shell.execute_reply": "2024-08-26T14:42:55.561264Z"
    },
    "papermill": {
     "duration": 0.035865,
     "end_time": "2024-08-26T14:42:55.563610",
     "exception": false,
     "start_time": "2024-08-26T14:42:55.527745",
     "status": "completed"
    },
    "tags": []
   },
   "outputs": [],
   "source": [
    "quants_df = quants_df[quants_df.index.isin(ONT_samples)]"
   ]
  },
  {
   "cell_type": "code",
   "execution_count": null,
   "id": "04f4d446-8ac8-403b-aecf-d8d140fc252a",
   "metadata": {
    "execution": {
     "iopub.execute_input": "2024-08-26T14:42:55.608289Z",
     "iopub.status.busy": "2024-08-26T14:42:55.607872Z",
     "iopub.status.idle": "2024-08-26T14:42:55.612923Z",
     "shell.execute_reply": "2024-08-26T14:42:55.612335Z"
    },
    "papermill": {
     "duration": 0.027815,
     "end_time": "2024-08-26T14:42:55.614570",
     "exception": false,
     "start_time": "2024-08-26T14:42:55.586755",
     "status": "completed"
    },
    "tags": []
   },
   "outputs": [],
   "source": [
    "# check for any unexpected samples; ie probably name frmt issue\n",
    "set(quants_df.index) - set(covs_df.index)"
   ]
  },
  {
   "cell_type": "code",
   "execution_count": null,
   "id": "66e26126-c835-496e-b3ac-99a7e7915d01",
   "metadata": {
    "execution": {
     "iopub.execute_input": "2024-08-26T14:42:55.657205Z",
     "iopub.status.busy": "2024-08-26T14:42:55.656790Z",
     "iopub.status.idle": "2024-08-26T14:42:55.661631Z",
     "shell.execute_reply": "2024-08-26T14:42:55.661023Z"
    },
    "papermill": {
     "duration": 0.027948,
     "end_time": "2024-08-26T14:42:55.663294",
     "exception": false,
     "start_time": "2024-08-26T14:42:55.635346",
     "status": "completed"
    },
    "tags": []
   },
   "outputs": [],
   "source": [
    "quants_df.shape"
   ]
  },
  {
   "cell_type": "code",
   "execution_count": null,
   "id": "42c303d7-0902-48c9-9e58-00bab57c9a80",
   "metadata": {
    "execution": {
     "iopub.execute_input": "2024-08-26T14:42:55.704957Z",
     "iopub.status.busy": "2024-08-26T14:42:55.704548Z",
     "iopub.status.idle": "2024-08-26T14:42:57.601489Z",
     "shell.execute_reply": "2024-08-26T14:42:57.600794Z"
    },
    "papermill": {
     "duration": 1.919924,
     "end_time": "2024-08-26T14:42:57.603639",
     "exception": false,
     "start_time": "2024-08-26T14:42:55.683715",
     "status": "completed"
    },
    "tags": []
   },
   "outputs": [],
   "source": [
    "SAMPLE_SIZE=len(quants_df)\n",
    "Missing_rate = []\n",
    "for i in range(0,quants_df.shape[1]):\n",
    "    Missing_rate.append(sum(quants_df.iloc[:,i]==\".\")/SAMPLE_SIZE)"
   ]
  },
  {
   "cell_type": "code",
   "execution_count": null,
   "id": "489680ae-07f0-48b1-985d-f3c79523d5a8",
   "metadata": {
    "execution": {
     "iopub.execute_input": "2024-08-26T14:42:58.576093Z",
     "iopub.status.busy": "2024-08-26T14:42:58.575688Z",
     "iopub.status.idle": "2024-08-26T14:42:58.581680Z",
     "shell.execute_reply": "2024-08-26T14:42:58.581036Z"
    },
    "papermill": {
     "duration": 0.031322,
     "end_time": "2024-08-26T14:42:58.583297",
     "exception": false,
     "start_time": "2024-08-26T14:42:58.551975",
     "status": "completed"
    },
    "tags": []
   },
   "outputs": [],
   "source": [
    "print(covs_df.shape)\n",
    "#cols_to_keep = set(covs_df.columns) - set(other_id_columns) - set(exclude_addl_info_cols)\n",
    "cols_to_keep = ['Group', 'Ethnicity', 'PMI', 'Sex', 'Age', 'RIN_totalrna']\n",
    "covs_df = covs_df[cols_to_keep]\n",
    "print(f'covariates shape {covs_df.shape}')\n",
    "if DEBUG:\n",
    "    display(covs_df.head())"
   ]
  },
  {
   "cell_type": "markdown",
   "id": "ba9865d2",
   "metadata": {
    "papermill": {
     "duration": 0.021176,
     "end_time": "2024-08-26T14:42:58.628328",
     "exception": false,
     "start_time": "2024-08-26T14:42:58.607152",
     "status": "completed"
    },
    "tags": []
   },
   "source": [
    "#### load and merge in the genetics PCs for cohort"
   ]
  },
  {
   "cell_type": "code",
   "execution_count": null,
   "id": "826770e4-398b-4647-a664-aa875426ea5c",
   "metadata": {
    "execution": {
     "iopub.execute_input": "2024-08-26T14:42:58.672655Z",
     "iopub.status.busy": "2024-08-26T14:42:58.672245Z",
     "iopub.status.idle": "2024-08-26T14:42:58.685629Z",
     "shell.execute_reply": "2024-08-26T14:42:58.684973Z"
    },
    "papermill": {
     "duration": 0.037575,
     "end_time": "2024-08-26T14:42:58.687254",
     "exception": false,
     "start_time": "2024-08-26T14:42:58.649679",
     "status": "completed"
    },
    "tags": []
   },
   "outputs": [],
   "source": [
    "genetic_components_df = pd.read_csv(genetic_pcs_file, sep='\\s+', index_col=1)\n",
    "genetic_components_df = genetic_components_df.iloc[:,1:]\n",
    "print(genetic_components_df.shape)\n",
    "covs_df = covs_df.merge(genetic_components_df, how='right', left_index=True, right_index=True)\n",
    "print(covs_df.shape)"
   ]
  },
  {
   "cell_type": "markdown",
   "id": "be7d2988",
   "metadata": {
    "papermill": {
     "duration": 0.021577,
     "end_time": "2024-08-26T14:42:58.819435",
     "exception": false,
     "start_time": "2024-08-26T14:42:58.797858",
     "status": "completed"
    },
    "tags": []
   },
   "source": [
    "#### check chr X and chr Y"
   ]
  },
  {
   "cell_type": "code",
   "execution_count": 33,
   "id": "87cadfb2",
   "metadata": {
    "execution": {
     "iopub.execute_input": "2024-08-26T14:42:58.866044Z",
     "iopub.status.busy": "2024-08-26T14:42:58.865634Z",
     "iopub.status.idle": "2024-08-26T14:42:58.882263Z",
     "shell.execute_reply": "2024-08-26T14:42:58.881601Z"
    },
    "papermill": {
     "duration": 0.041098,
     "end_time": "2024-08-26T14:42:58.883919",
     "exception": false,
     "start_time": "2024-08-26T14:42:58.842821",
     "status": "completed"
    },
    "tags": []
   },
   "outputs": [],
   "source": [
    "sex_chr_feature_ids = quants_df.columns[(quants_df.columns.str.contains('chrX')) | (quants_df.columns.str.contains('chrY'))].unique()"
   ]
  },
  {
   "cell_type": "code",
   "execution_count": null,
   "id": "3275d0c7-450a-4cab-b800-41260ea4e87f",
   "metadata": {
    "execution": {
     "iopub.execute_input": "2024-08-26T14:42:58.931677Z",
     "iopub.status.busy": "2024-08-26T14:42:58.931266Z",
     "iopub.status.idle": "2024-08-26T14:42:58.936409Z",
     "shell.execute_reply": "2024-08-26T14:42:58.935807Z"
    },
    "papermill": {
     "duration": 0.031859,
     "end_time": "2024-08-26T14:42:58.938062",
     "exception": false,
     "start_time": "2024-08-26T14:42:58.906203",
     "status": "completed"
    },
    "scrolled": true,
    "tags": []
   },
   "outputs": [],
   "source": [
    "sex_chr_feature_ids"
   ]
  },
  {
   "cell_type": "markdown",
   "id": "b15f91f3",
   "metadata": {
    "papermill": {
     "duration": 0.038395,
     "end_time": "2024-08-26T14:42:59.030651",
     "exception": false,
     "start_time": "2024-08-26T14:42:58.992256",
     "status": "completed"
    },
    "tags": []
   },
   "source": [
    "### check expected sex of samples"
   ]
  },
  {
   "cell_type": "code",
   "execution_count": null,
   "id": "9c495e67-0003-4576-965e-b7ccbb031767",
   "metadata": {
    "execution": {
     "iopub.execute_input": "2024-08-26T14:42:59.107387Z",
     "iopub.status.busy": "2024-08-26T14:42:59.106981Z",
     "iopub.status.idle": "2024-08-26T14:42:59.131204Z",
     "shell.execute_reply": "2024-08-26T14:42:59.130530Z"
    },
    "papermill": {
     "duration": 0.050077,
     "end_time": "2024-08-26T14:42:59.132867",
     "exception": false,
     "start_time": "2024-08-26T14:42:59.082790",
     "status": "completed"
    },
    "scrolled": true,
    "tags": []
   },
   "outputs": [],
   "source": [
    "#Vawter MP, Evans S, Choudary P et al. Gender-specific gene expression in \n",
    "#post-mortem human brain: localization to sex chromosomes. \n",
    "#Neuropsychopharmacology 2004;29:373–84.\n",
    "sex_genes = ['XIST','RPS4Y1','RPS4Y2','KDM5D','UTY','DDX3Y','USP9Y']\n",
    "\n",
    "if modality == 'METH':\n",
    "    sex_specific_features = quants_df.columns[(quants_df.columns.str.contains('chrX')) | (quants_df.columns.str.contains('chrY'))].unique()\n",
    "\n",
    "elif modality == 'RNAB':\n",
    "    sex_features = features_df.loc[features_df.gene_name.isin(sex_genes)]\n",
    "    sex_specific_features = sex_features.gene_name.to_list()\n",
    "\n",
    "print(f'found {len(sex_features_present)} sex features: \\n{sex_features_present}')\n",
    "quants_sex_df = quants_df[sex_features_present].copy()\n",
    "print(f'sex features matrix shape {quants_sex_df.shape}')"
   ]
  },
  {
   "cell_type": "code",
   "execution_count": null,
   "id": "73502ad6-b243-4588-a2e5-d7c9e98bd320",
   "metadata": {
    "execution": {
     "iopub.execute_input": "2024-08-26T14:42:59.246374Z",
     "iopub.status.busy": "2024-08-26T14:42:59.245959Z",
     "iopub.status.idle": "2024-08-26T14:42:59.249951Z",
     "shell.execute_reply": "2024-08-26T14:42:59.249334Z"
    },
    "papermill": {
     "duration": 0.029901,
     "end_time": "2024-08-26T14:42:59.251573",
     "exception": false,
     "start_time": "2024-08-26T14:42:59.221672",
     "status": "completed"
    },
    "tags": []
   },
   "outputs": [],
   "source": [
    "quants_sex_df = quants_sex_df.replace('.',0)"
   ]
  },
  {
   "cell_type": "code",
   "execution_count": null,
   "id": "46c65965-df71-4190-8263-d3f71d3dcf97",
   "metadata": {
    "execution": {
     "iopub.execute_input": "2024-08-26T14:42:59.301700Z",
     "iopub.status.busy": "2024-08-26T14:42:59.301303Z",
     "iopub.status.idle": "2024-08-26T14:43:07.067407Z",
     "shell.execute_reply": "2024-08-26T14:43:07.066562Z"
    },
    "papermill": {
     "duration": 7.793366,
     "end_time": "2024-08-26T14:43:07.070257",
     "exception": false,
     "start_time": "2024-08-26T14:42:59.276891",
     "status": "completed"
    },
    "scrolled": true,
    "tags": []
   },
   "outputs": [],
   "source": [
    "%%time\n",
    "if quants_sex_df.shape[1] == 0:\n",
    "    print(\"quants_sex_df is empty and cannot be processed.\")\n",
    "else:\n",
    "    try:\n",
    "        sex_umap_df = nuf.generate_umap_covs_df(quants_sex_df, covs_df)\n",
    "        nuf.plot_umap_clusters(sex_umap_df, hue_cov='Sex', style_cov='Group')\n",
    "    except Exception as e:\n",
    "        print(f\"An error occurred: {e}\")"
   ]
  },
  {
   "cell_type": "code",
   "execution_count": null,
   "id": "be318aa1-9bdc-44a6-a919-3108cb02a0dc",
   "metadata": {
    "execution": {
     "iopub.execute_input": "2024-08-26T14:43:07.290281Z",
     "iopub.status.busy": "2024-08-26T14:43:07.289873Z",
     "iopub.status.idle": "2024-08-26T14:43:07.308187Z",
     "shell.execute_reply": "2024-08-26T14:43:07.307515Z"
    },
    "papermill": {
     "duration": 0.046088,
     "end_time": "2024-08-26T14:43:07.309899",
     "exception": false,
     "start_time": "2024-08-26T14:43:07.263811",
     "status": "completed"
    },
    "scrolled": true,
    "tags": []
   },
   "outputs": [],
   "source": [
    "# Step 1: Check for NaN or Infinite values\n",
    "print(\"Checking for NaN values:\")\n",
    "print(quants_df.isna().sum().sum())  # Total number of NaN values\n",
    "print(\"Checking for Infinite values:\")\n",
    "print(np.isinf(quants_df).sum().sum())  # Total number of Infinite values"
   ]
  },
  {
   "cell_type": "code",
   "execution_count": null,
   "id": "6d51ef8c-091f-4955-99a4-42157b3ac300",
   "metadata": {
    "execution": {
     "iopub.execute_input": "2024-08-26T14:43:07.365625Z",
     "iopub.status.busy": "2024-08-26T14:43:07.365225Z",
     "iopub.status.idle": "2024-08-26T14:43:10.012049Z",
     "shell.execute_reply": "2024-08-26T14:43:10.011361Z"
    },
    "papermill": {
     "duration": 2.675351,
     "end_time": "2024-08-26T14:43:10.014185",
     "exception": false,
     "start_time": "2024-08-26T14:43:07.338834",
     "status": "completed"
    },
    "tags": []
   },
   "outputs": [],
   "source": [
    "# Replace `.` with `NaN`\n",
    "quants_df = quants_df.replace('.', np.nan).astype(float)\n",
    "\n",
    "# Calculate the mean of each column\n",
    "means = quants_df.mean()\n",
    "\n",
    "# Replace `NaN` with the mean of the respective columns\n",
    "for column in quants_df.columns:\n",
    "    quants_df[column].fillna(means[column], inplace=True)\n",
    "    \n",
    "# delete all NaN columns\n",
    "quants_df.dropna(axis=1, how='all', inplace=True)"
   ]
  },
  {
   "cell_type": "code",
   "execution_count": null,
   "id": "0e4dd5fe-6e88-4261-a911-5fc48993f937",
   "metadata": {
    "execution": {
     "iopub.execute_input": "2024-08-26T14:43:10.073602Z",
     "iopub.status.busy": "2024-08-26T14:43:10.073193Z",
     "iopub.status.idle": "2024-08-26T14:43:10.079622Z",
     "shell.execute_reply": "2024-08-26T14:43:10.078985Z"
    },
    "papermill": {
     "duration": 0.036638,
     "end_time": "2024-08-26T14:43:10.081335",
     "exception": false,
     "start_time": "2024-08-26T14:43:10.044697",
     "status": "completed"
    },
    "tags": []
   },
   "outputs": [],
   "source": [
    "def calculate_detection_rates(this_df, modality, round_percision=1, \n",
    "                              min_quant_value=None):\n",
    "    if min_quant_value is None:\n",
    "        min_quant_value = this_df.round(round_percision).min().min()\n",
    "\n",
    "    print(f'minimun {modality} value is {min_quant_value}')\n",
    "\n",
    "    detected_df = this_df.mask(this_df.round(round_percision) <= min_quant_value, 0)\n",
    "\n",
    "    # calculate the missing counts from the detected df mask\n",
    "    trait_missing_rates = round(detected_df.isin({0}).sum(0)/detected_df.shape[0], 2)\n",
    "    sample_missing_rates = round(detected_df.isin({0}).sum(1)/detected_df.shape[1], 2)\n",
    "\n",
    "    print(f'{len(trait_missing_rates)} features with mean missing \\\n",
    "rate = {trait_missing_rates.mean()}')\n",
    "    print(f'{len(sample_missing_rates)} samples with mean missing \\\n",
    "rate = {sample_missing_rates.mean()}')\n",
    "    return trait_missing_rates, sample_missing_rates"
   ]
  },
  {
   "cell_type": "markdown",
   "id": "fc63183a",
   "metadata": {
    "papermill": {
     "duration": 0.025933,
     "end_time": "2024-08-26T14:43:10.135385",
     "exception": false,
     "start_time": "2024-08-26T14:43:10.109452",
     "status": "completed"
    },
    "tags": []
   },
   "source": [
    "### calculate, plot detection rates and subset well detected features"
   ]
  },
  {
   "cell_type": "code",
   "execution_count": null,
   "id": "1135f40c-9b4e-457e-b009-7a3cb6baaaa9",
   "metadata": {
    "execution": {
     "iopub.execute_input": "2024-08-26T14:43:10.198908Z",
     "iopub.status.busy": "2024-08-26T14:43:10.198495Z",
     "iopub.status.idle": "2024-08-26T14:43:14.768587Z",
     "shell.execute_reply": "2024-08-26T14:43:14.767880Z"
    },
    "papermill": {
     "duration": 4.598819,
     "end_time": "2024-08-26T14:43:14.770307",
     "exception": false,
     "start_time": "2024-08-26T14:43:10.171488",
     "status": "completed"
    },
    "tags": []
   },
   "outputs": [],
   "source": [
    "%%time\n",
    "trait_miss_rates, sample_miss_rates = nuf.calculate_detection_rates(quants_df, modality)\n",
    "nuf.plot_missing_rates(trait_miss_rates, sample_miss_rates)\n",
    "bad_call_rate_features = nuf.bad_callrate_features(trait_miss_rates, min_detection_rate)\n",
    "quants_wd_df = nuf.subset_well_detected_features(quants_df, bad_call_rate_features)"
   ]
  },
  {
   "cell_type": "markdown",
   "id": "aa4b6d79",
   "metadata": {
    "papermill": {
     "duration": 0.027268,
     "end_time": "2024-08-26T14:43:14.828891",
     "exception": false,
     "start_time": "2024-08-26T14:43:14.801623",
     "status": "completed"
    },
    "tags": []
   },
   "source": [
    "### standardize the dataset using transform"
   ]
  },
  {
   "cell_type": "code",
   "execution_count": null,
   "id": "ac3deefd-f653-4a5c-9fe9-15e94c3d23ac",
   "metadata": {
    "execution": {
     "iopub.execute_input": "2024-08-26T14:43:14.885154Z",
     "iopub.status.busy": "2024-08-26T14:43:14.884738Z",
     "iopub.status.idle": "2024-08-26T14:43:26.455799Z",
     "shell.execute_reply": "2024-08-26T14:43:26.454694Z"
    },
    "papermill": {
     "duration": 11.601513,
     "end_time": "2024-08-26T14:43:26.457594",
     "exception": false,
     "start_time": "2024-08-26T14:43:14.856081",
     "status": "completed"
    },
    "tags": []
   },
   "outputs": [],
   "source": [
    "%%time\n",
    "traits_scaled_df = nuf.scale_dataframe(quants_wd_df)"
   ]
  },
  {
   "cell_type": "code",
   "execution_count": null,
   "id": "c49d3de6-0095-44d5-a689-bd7119403df1",
   "metadata": {
    "execution": {
     "iopub.execute_input": "2024-08-26T14:43:26.526484Z",
     "iopub.status.busy": "2024-08-26T14:43:26.526031Z",
     "iopub.status.idle": "2024-08-26T14:43:27.966287Z",
     "shell.execute_reply": "2024-08-26T14:43:27.965623Z"
    },
    "papermill": {
     "duration": 1.472742,
     "end_time": "2024-08-26T14:43:27.968642",
     "exception": false,
     "start_time": "2024-08-26T14:43:26.495900",
     "status": "completed"
    },
    "scrolled": true,
    "tags": []
   },
   "outputs": [],
   "source": [
    "# check transformation for random feature\n",
    "nuf.plot_trnsfrm_effect_example(quants_df, traits_scaled_df,\n",
    "                                bf_label=modality, \n",
    "                                af_label='quantile transformed')"
   ]
  },
  {
   "cell_type": "markdown",
   "id": "3f929fcb",
   "metadata": {
    "papermill": {
     "duration": 0.033624,
     "end_time": "2024-08-26T14:43:28.038550",
     "exception": false,
     "start_time": "2024-08-26T14:43:28.004926",
     "status": "completed"
    },
    "tags": []
   },
   "source": [
    "### save scaled, well detected data for all days"
   ]
  },
  {
   "cell_type": "code",
   "execution_count": null,
   "id": "eb88cc8d-4093-4a54-9c47-9b0a9d094c2b",
   "metadata": {
    "execution": {
     "iopub.execute_input": "2024-08-26T14:43:28.106626Z",
     "iopub.status.busy": "2024-08-26T14:43:28.106207Z",
     "iopub.status.idle": "2024-08-26T14:43:28.387404Z",
     "shell.execute_reply": "2024-08-26T14:43:28.386687Z"
    },
    "papermill": {
     "duration": 0.317905,
     "end_time": "2024-08-26T14:43:28.389501",
     "exception": false,
     "start_time": "2024-08-26T14:43:28.071596",
     "status": "completed"
    },
    "tags": []
   },
   "outputs": [],
   "source": [
    "nuf.write_df_to_hdf(traits_scaled_df, scaled_file)"
   ]
  },
  {
   "cell_type": "markdown",
   "id": "dd0e30be-c1c9-4550-98d3-94520e6e626b",
   "metadata": {},
   "source": [
    "### make tensorQTL files"
   ]
  },
  {
   "cell_type": "code",
   "execution_count": null,
   "id": "98ac0ad6-e755-4a14-9ef6-000f13a648d3",
   "metadata": {
    "execution": {
     "iopub.execute_input": "2024-08-26T14:45:20.701327Z",
     "iopub.status.busy": "2024-08-26T14:45:20.700909Z",
     "iopub.status.idle": "2024-08-26T14:45:20.707768Z",
     "shell.execute_reply": "2024-08-26T14:45:20.707129Z"
    },
    "papermill": {
     "duration": 0.086958,
     "end_time": "2024-08-26T14:45:20.709438",
     "exception": false,
     "start_time": "2024-08-26T14:45:20.622480",
     "status": "completed"
    },
    "tags": []
   },
   "outputs": [],
   "source": [
    "%%time\n",
    "INFO\n",
    "info_df = INFO.iloc[:,:3]\n",
    "info_df['phenotype_id'] = info_df.index\n",
    "print(info_df.shape)"
   ]
  },
  {
   "cell_type": "code",
   "execution_count": null,
   "id": "72704a02-e77b-4146-a25c-1c03acbed4a1",
   "metadata": {
    "execution": {
     "iopub.execute_input": "2024-08-26T14:45:20.876228Z",
     "iopub.status.busy": "2024-08-26T14:45:20.875809Z",
     "iopub.status.idle": "2024-08-26T14:45:20.886071Z",
     "shell.execute_reply": "2024-08-26T14:45:20.885468Z"
    },
    "papermill": {
     "duration": 0.083693,
     "end_time": "2024-08-26T14:45:20.887769",
     "exception": false,
     "start_time": "2024-08-26T14:45:20.804076",
     "status": "completed"
    },
    "scrolled": true,
    "tags": []
   },
   "outputs": [],
   "source": [
    "info_df"
   ]
  },
  {
   "cell_type": "code",
   "execution_count": null,
   "id": "f7265f51-0f63-46cf-9382-548e036afc72",
   "metadata": {
    "execution": {
     "iopub.execute_input": "2024-08-26T14:45:44.530879Z",
     "iopub.status.busy": "2024-08-26T14:45:44.530441Z",
     "iopub.status.idle": "2024-08-26T14:45:53.703867Z",
     "shell.execute_reply": "2024-08-26T14:45:53.703188Z"
    },
    "papermill": {
     "duration": 9.245891,
     "end_time": "2024-08-26T14:45:53.705549",
     "exception": false,
     "start_time": "2024-08-26T14:45:44.459658",
     "status": "completed"
    },
    "tags": []
   },
   "outputs": [],
   "source": [
    "%%time\n",
    "# transpose the scaled df from sample x feature to feature x sample\n",
    "traits_scaled_df = traits_scaled_df.transpose()\n",
    "\n",
    "if target in ['promoters2Kb','geneBodies','tss_start']:\n",
    "    INFO = INFO[['chr','start','end','strand']]\n",
    "    INFO['phenotype_id'] = INFO.index\n",
    "    INFO['end'] = np.where(INFO['strand'] == '+',  \n",
    "                                     INFO['start'], \n",
    "                                     INFO['end'])\n",
    "    INFO['start'] = INFO['end'] - 1\n",
    "    INFO = INFO[['chr','start','end','phenotype_id']]\n",
    "    traits_scaled_df = INFO.merge(traits_scaled_df,right_index=True, left_index=True, how=\"inner\")\n",
    "    # for tensorQTL 'end' column is TSS so set appropriately\n",
    "else:\n",
    "    traits_scaled_df = info_df.merge(traits_scaled_df,right_index=True, left_index=True, how=\"inner\")\n",
    "    traits_scaled_df['end'] = traits_scaled_df['start'] + 1\n",
    "display(traits_scaled_df.head())\n",
    "print(traits_scaled_df.shape)\n",
    "\n",
    "\n",
    "tresiduals_df.to_csv(tnsrqtl_pheno_nonadj_file, index=False, sep='\\t', compression='gzip')"
   ]
  },
  {
   "cell_type": "code",
   "execution_count": null,
   "id": "fdc915a5",
   "metadata": {
    "papermill": {
     "duration": 0.065903,
     "end_time": "2024-08-26T14:45:53.847724",
     "exception": false,
     "start_time": "2024-08-26T14:45:53.781821",
     "status": "completed"
    },
    "tags": []
   },
   "outputs": [],
   "source": []
  },
  {
   "cell_type": "code",
   "execution_count": null,
   "id": "b0427b96",
   "metadata": {
    "papermill": {
     "duration": 0.067257,
     "end_time": "2024-08-26T14:45:53.984616",
     "exception": false,
     "start_time": "2024-08-26T14:45:53.917359",
     "status": "completed"
    },
    "tags": []
   },
   "outputs": [],
   "source": []
  }
 ],
 "metadata": {
  "environment": {
   "kernel": "python3",
   "name": "pytorch-gpu.1-12.m102",
   "type": "gcloud",
   "uri": "gcr.io/deeplearning-platform-release/pytorch-gpu.1-12:m102"
  },
  "kernelspec": {
   "display_name": "python/3.8",
   "language": "python",
   "name": "py3.8"
  },
  "language_info": {
   "codemirror_mode": {
    "name": "ipython",
    "version": 3
   },
   "file_extension": ".py",
   "mimetype": "text/x-python",
   "name": "python",
   "nbconvert_exporter": "python",
   "pygments_lexer": "ipython3",
   "version": "3.8.15"
  },
  "papermill": {
   "default_parameters": {},
   "duration": 210.183688,
   "end_time": "2024-08-26T14:45:57.217184",
   "environment_variables": {},
   "exception": null,
   "input_path": "/data/CARDPB/data/NABEC/projects/QTL_paper_2024/SV-mQTL/notebooks/prep_quants_by_day.ipynb",
   "output_path": "/data/CARDPB/data/NABEC/projects/QTL_paper_2024/SV-mQTL/notebooks/pm_gend_nbs/quant_preps/nabec_Aug_2024_tss_start_5cpg_SV_sniffles_quant_prep.ipynb",
   "parameters": {
    "cohort": "nabec",
    "target": "tss_start_5cpg",
    "varianttype_caller": "SV_sniffles",
    "version": "Aug_2024"
   },
   "start_time": "2024-08-26T14:42:27.033496",
   "version": "2.3.4"
  },
  "widgets": {
   "application/vnd.jupyter.widget-state+json": {
    "state": {},
    "version_major": 2,
    "version_minor": 0
   }
  }
 },
 "nbformat": 4,
 "nbformat_minor": 5
}
