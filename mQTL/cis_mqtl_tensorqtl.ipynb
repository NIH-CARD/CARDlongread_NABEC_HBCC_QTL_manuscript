{
 "cells": [
  {
   "cell_type": "markdown",
   "metadata": {
    "editable": true,
    "slideshow": {
     "slide_type": ""
    },
    "tags": []
   },
   "source": [
    "### Notebook to run *cis*-eQTL analysis using [tensorQTL](https://github.com/broadinstitute/tensorqtl)\n",
    "\n",
    "[Taylor-Weiner, Aguet, et al., Genome Biol. 20:228, 2019.](https://genomebiology.biomedcentral.com/articles/10.1186/s13059-019-1836-7)\n"
   ]
  },
  {
   "cell_type": "code",
   "execution_count": null,
   "metadata": {
    "scrolled": true,
    "tags": []
   },
   "outputs": [],
   "source": [
    "!date"
   ]
  },
  {
   "cell_type": "code",
   "execution_count": null,
   "metadata": {
    "tags": []
   },
   "outputs": [],
   "source": [
    "!source myconda"
   ]
  },
  {
   "cell_type": "markdown",
   "metadata": {},
   "source": [
    "#### import libraries and set notebook variables"
   ]
  },
  {
   "cell_type": "code",
   "execution_count": null,
   "metadata": {
    "tags": []
   },
   "outputs": [],
   "source": [
    "import pandas as pd\n",
    "import dask.dataframe as dd\n",
    "import numpy as np\n",
    "import torch\n",
    "import tensorqtl.tensorqtl as tensorqtl\n",
    "from tensorqtl.tensorqtl import genotypeio, cis, trans\n",
    "print('PyTorch {}'.format(torch.__version__))\n",
    "print('Pandas {}'.format(pd.__version__))\n",
    "from pgenlib import PgenReader\n",
    "import pgenlib as pgen\n",
    "import seaborn as sns\n",
    "from kneed import KneeLocator \n",
    "\n",
    "import os\n",
    "import statsmodels.stats.multitest as smm\n",
    "import scikit_posthocs as sp\n",
    "import statsmodels\n",
    "import statsmodels.api as sm\n",
    "import itertools\n",
    "from sklearn.decomposition import PCA\n",
    "import matplotlib.pyplot as plt\n",
    "\n",
    "import warnings\n",
    "warnings.filterwarnings('ignore')"
   ]
  },
  {
   "cell_type": "code",
   "execution_count": null,
   "metadata": {
    "editable": true,
    "slideshow": {
     "slide_type": ""
    },
    "tags": [
     "parameters"
    ]
   },
   "outputs": [],
   "source": [
    "cohort = \"nabec\"\n",
    "version = \"Jun_2024\"\n",
    "target = \"cpg_islands\"\n",
    "varianttype_caller = \"SV_harmonized\""
   ]
  },
  {
   "cell_type": "code",
   "execution_count": null,
   "metadata": {
    "tags": []
   },
   "outputs": [],
   "source": [
    "# naming\n",
    "modality = 'METH'\n",
    "#cohort_build = f'{cohort}.{version}.{target}'\n",
    "set_name = f'{cohort}_{version}_{target}_{varianttype_caller}'\n",
    "#make sure if using both SV and SNV, use \"SNV_SV_{caller}\n",
    "cohort_version_target = f'{cohort}_{version}_{target}'\n",
    "\n",
    "\n",
    "# directories\n",
    "in_dir = f'/data/CARDPB/data/NABEC/projects/QTL_paper_2024/SV-mQTL'\n",
    "geno_dir = f'{in_dir}/genotypes/{varianttype_caller}'\n",
    "quants_dir = f'{in_dir}/expression'\n",
    "info_dir = f'{in_dir}/sample_info'\n",
    "tensorqtl_dir = f'/data/CARDPB/data/NABEC/projects/QTL_paper_2024/newSV-mQTL/tenosorqtl/{set_name}'\n",
    "results_dir = f'/data/CARDPB/data/NABEC/projects/QTL_paper_2024/newSV-mQTL/results/{set_name}'\n",
    "\n",
    "\n",
    "#for RNA (used SV PC1-5 and SNV PC 1-5 for SV and SNV)  'SNVPC1', 'SNVPC2', 'SNVPC3', 'SNVPC4', 'SNVPC5', \n",
    "#for RNA (used SV PC1-5 and SNV PC 1-5 for SV and SNV)  'SNVPC1', 'SNVPC2', 'SNVPC3', 'SNVPC4', 'SNVPC5', \n",
    "if varianttype_caller == 'SNV_illumina':\n",
    "    covs_columns_to_use = ['female','PMI', 'Age', 'JHU', 'MIAMI', 'SH', 'UKY', 'UMARY']\n",
    "    bfile_prefix_path = f'{geno_dir}/MERGED_MAF_GENO005_HWE_0001_ONT_plink19_Jul2024'\n",
    "    gPCA_path = f'{geno_dir}/MERGED_MAF_GENO005_HWE_0001_ONT_plink19_Jul2024_prun_pca20.txt'\n",
    "    eigenvalues = pd.read_csv('/data/CARDPB/data/NABEC/projects/QTL_paper_2024/SV-eQTL/genotypes/SNV_illumina/MERGED_MAF_GENO005_ONT_plink19_pca20.eigenval',header=None)\n",
    "elif varianttype_caller ==  'SV_harmonized':\n",
    "    covs_columns_to_use = ['female','PMI', 'Age', 'JHU', 'MIAMI', 'SH', 'UKY', 'UMARY']\n",
    "    bfile_prefix_path = f'{geno_dir}/nabec_GENO_MAF_005_HWE_0001_updateid'\n",
    "    gPCA_path = f'{geno_dir}/nabec_GENO_MAF_005_HWE_0001_updateid_prun_pca20.txt'\n",
    "    eigenvalues = pd.read_csv('/data/CARDPB/data/NABEC/projects/QTL_paper_2024/SV-eQTL/genotypes/SV_harmonized/nabec_GENO_MAF_005_HWE_0001_updateid_prun_pca20.eigenval',header=None)\n",
    "\n",
    "elif varianttype_caller ==  'SV_harmonized_SNV':\n",
    "    covs_columns_to_use = ['female','PMI', 'Age', 'JHU', 'MIAMI', 'SH', 'UKY', 'UMARY']\n",
    "    bfile_prefix_path = f'{geno_dir}/harmonized_SV_SNV_MAF_GENO_005_HWE_0001'\n",
    "    gPCA_path = f'{geno_dir}/harmonized_SV_SNV_MAF_GENO_005_HWE_0001_prun_pca20.txt'\n",
    "    eigenvalues = pd.read_csv('/data/CARDPB/data/NABEC/projects/QTL_paper_2024/SV-eQTL/genotypes/SV_harmonized_SNV/harmonized_SV_SNV_MAF_GENO_005_HWE_0001_prun_pca20.eigenval',header=None)\n",
    "\n",
    "# input file\n",
    "quants_bed_file = f'{quants_dir}/{cohort_version_target}.scaled.bed.gz'm\n",
    "assay_covs_files = f'{info_dir}/nabec.aug2020.sample_info.txt'\n",
    "\n",
    "# output files\n",
    "used_samples_list_file = f'{info_dir}/{set_name}.samples'\n",
    "cis_indep_file = f'{results_dir}/{set_name}.cis.indep.csv'\n",
    "cis_map_file = f'{tensorqtl_dir}/{set_name}.cis.map.csv'\n",
    "qtnormalized_expression_pc = f'{info_dir}/{cohort_version_target}.normPC.csv'\n",
    "\n",
    "# constant values\n",
    "alpha_value = 0.05\n",
    "min_nominal_alpha = 1e-05\n",
    "# tensorQTL defaults to 0\n",
    "MIN_MAF = 0\n",
    "DEBUG=False"
   ]
  },
  {
   "cell_type": "code",
   "execution_count": null,
   "metadata": {
    "tags": []
   },
   "outputs": [],
   "source": [
    "os.makedirs(tensorqtl_dir, exist_ok=True)\n",
    "os.makedirs(results_dir, exist_ok=True)"
   ]
  },
  {
   "cell_type": "markdown",
   "metadata": {},
   "source": [
    "#### utility functions"
   ]
  },
  {
   "cell_type": "code",
   "execution_count": null,
   "metadata": {
    "tags": []
   },
   "outputs": [],
   "source": [
    "# compute B&H FDR for given p-values #pvalue multiple test\n",
    "def compute_fdr(pvalues):\n",
    "    bh_adj = smm.fdrcorrection(pvalues)\n",
    "    return bh_adj[1]"
   ]
  },
  {
   "cell_type": "markdown",
   "metadata": {},
   "source": [
    "#### load phenotypes and covariates (if needed)"
   ]
  },
  {
   "cell_type": "code",
   "execution_count": null,
   "metadata": {
    "tags": []
   },
   "outputs": [],
   "source": [
    "%%time\n",
    "\n",
    "phenotype_df, phenotype_pos_df = tensorqtl.read_phenotype_bed(quants_bed_file)\n",
    "print(f'phenotype_df {phenotype_df.shape}')\n",
    "print(f'phenotype_pos_df {phenotype_pos_df.shape}')\n",
    "# display(phenotype_df.head())\n",
    "# display(phenotype_pos_df.head())"
   ]
  },
  {
   "cell_type": "markdown",
   "metadata": {
    "tags": []
   },
   "source": [
    "## load covariates and format"
   ]
  },
  {
   "cell_type": "code",
   "execution_count": null,
   "metadata": {
    "tags": []
   },
   "outputs": [],
   "source": [
    "covs_df = pd.read_csv(assay_covs_files, index_col=0)\n",
    "print(f'covariates shape {covs_df.shape}')\n",
    "#if DEBUG:\n",
    "#    display(covs_df.head())"
   ]
  },
  {
   "cell_type": "code",
   "execution_count": null,
   "metadata": {
    "tags": []
   },
   "outputs": [],
   "source": [
    "covs_df"
   ]
  },
  {
   "cell_type": "markdown",
   "metadata": {},
   "source": [
    "#### create a binarized covariate for sex"
   ]
  },
  {
   "cell_type": "code",
   "execution_count": null,
   "metadata": {
    "tags": []
   },
   "outputs": [],
   "source": [
    "covs_df['female'] = 0\n",
    "covs_df.loc[covs_df.Sex == 'female', 'female'] = 1\n",
    "display(covs_df.Sex.value_counts())\n",
    "display(covs_df.female.value_counts())"
   ]
  },
  {
   "cell_type": "code",
   "execution_count": null,
   "metadata": {
    "tags": []
   },
   "outputs": [],
   "source": [
    "#get dummies to the Group\n",
    "onehot_batch = pd.get_dummies(covs_df.Group, drop_first=True)\n",
    "# should have the same index\n",
    "print(f'indices are equal: {covs_df.index.equals(onehot_batch.index)}')\n",
    "covs_df = pd.concat([covs_df, onehot_batch], axis=1)\n",
    "print(f'new covariates shape: {covs_df.shape}')\n",
    "#if DEBUG:\n",
    "#    display(onehot_batch.sample(5))\n",
    "#    display(covs_df.sample(5))"
   ]
  },
  {
   "cell_type": "markdown",
   "metadata": {},
   "source": [
    "### merge genetic-PCA"
   ]
  },
  {
   "cell_type": "code",
   "execution_count": null,
   "metadata": {
    "tags": []
   },
   "outputs": [],
   "source": [
    "g_pca = pd.read_csv(f\"{gPCA_path}\", index_col=1, sep=' ').drop('0',axis=1)"
   ]
  },
  {
   "cell_type": "code",
   "execution_count": null,
   "metadata": {
    "tags": []
   },
   "outputs": [],
   "source": [
    "g_pca['SampleId'] = [i.replace('NABEC_','').replace('_FTX','') for i in g_pca.index.to_list()]"
   ]
  },
  {
   "cell_type": "code",
   "execution_count": null,
   "metadata": {
    "tags": []
   },
   "outputs": [],
   "source": [
    "covs_df = covs_df.merge(g_pca,on=\"SampleId\")"
   ]
  },
  {
   "cell_type": "code",
   "execution_count": null,
   "metadata": {
    "tags": []
   },
   "outputs": [],
   "source": [
    "#plot PCA of geno\n",
    "#N 20\n",
    "pca_row = g_pca.drop('SampleId',axis=1)\n",
    "plt.figure(figsize=(6, 6))\n",
    "plt.scatter(pca_row.iloc[:, 0], pca_row.iloc[:, 1], alpha=0.8)\n",
    "plt.grid()\n",
    "plt.xlabel(\"PC1\")\n",
    "plt.ylabel(\"PC2\")\n",
    "x = pca_row.iloc[:, 0]\n",
    "y = pca_row.iloc[:, 1]\n",
    "annotations = pca_row.index\n",
    "for i, label in enumerate(annotations):\n",
    "    plt.annotate(label, (x[i], y[i]))\n",
    "plt.show()\n",
    "\n",
    "#eigenvalues = pd.read_csv('/data/CARDPB/data/NABEC/projects/QTL_paper_2024/SV-eQTL/genotypes/SNV_illumina/MERGED_MAF_GENO005_ONT_plink19_pca20.eigenval',header=None)\n",
    "print(eigenvalues)\n",
    "import numpy as np\n",
    "import matplotlib.pyplot as plt\n",
    "\n",
    "\n",
    "# calculate cotriburtion rates\n",
    "total_variance = np.sum(eigenvalues)\n",
    "contribution_rates = (eigenvalues / total_variance).to_numpy().flatten()\n",
    "\n",
    "# change to list\n",
    "n_components = np.arange(1, len(contribution_rates) + 1)\n",
    "\n",
    "# make instance by KneeLocator\n",
    "knee_locator = KneeLocator(n_components, contribution_rates, curve='convex', direction='decreasing')\n",
    "\n",
    "knee_locator.plot_knee()\n",
    "\n",
    "# output the knee point\n",
    "print(f'Optimal number of components: {knee_locator.knee}')\n",
    "\n",
    "plt.show()\n",
    "\n",
    "GPCA_NUM = knee_locator.knee"
   ]
  },
  {
   "cell_type": "markdown",
   "metadata": {},
   "source": [
    "### merge expression PCA\n"
   ]
  },
  {
   "cell_type": "code",
   "execution_count": null,
   "metadata": {},
   "outputs": [],
   "source": [
    "phenotype_df = phenotype_df.dropna()"
   ]
  },
  {
   "cell_type": "code",
   "execution_count": 74,
   "metadata": {
    "tags": []
   },
   "outputs": [],
   "source": [
    "temp_EXP = phenotype_df.T"
   ]
  },
  {
   "cell_type": "code",
   "execution_count": null,
   "metadata": {
    "tags": []
   },
   "outputs": [],
   "source": [
    "#plot PCA of meth\n",
    "#N 20\n",
    "pca = PCA(n_components=20)\n",
    "pca.fit(temp_EXP)\n",
    "\n",
    "pca_row = pca.transform(temp_EXP)\n",
    "\n",
    "plt.figure(figsize=(6, 6))\n",
    "plt.scatter(pca_row[:, 0], pca_row[:, 1], alpha=0.8)\n",
    "plt.grid()\n",
    "plt.xlabel(\"PC1\")\n",
    "plt.ylabel(\"PC2\")\n",
    "x = pca_row[:, 0]\n",
    "y = pca_row[:, 1]\n",
    "annotations = temp_EXP.index\n",
    "for i, label in enumerate(annotations):\n",
    "    plt.annotate(label, (x[i], y[i]))\n",
    "plt.show()\n",
    "\n",
    "eigenvalues = pd.DataFrame(pca.explained_variance_ratio_)\n",
    "\n",
    "import numpy as np\n",
    "import matplotlib.pyplot as plt\n",
    "\n",
    "\n",
    "# calc contribution\n",
    "total_variance = np.sum(eigenvalues)\n",
    "contribution_rates = (eigenvalues / total_variance).to_numpy().flatten()\n",
    "\n",
    "# change x-axis to list\n",
    "n_components = np.arange(1, len(contribution_rates) + 1)\n",
    "\n",
    "# make instance by KneeLocator\n",
    "knee_locator = KneeLocator(n_components, contribution_rates, curve='convex', direction='decreasing')\n",
    "\n",
    "knee_locator.plot_knee()\n",
    "\n",
    "# output the knee point\n",
    "print(f'Optimal number of components: {knee_locator.knee}')\n",
    "\n",
    "plt.show()\n",
    "\n",
    "PHENOPCA_NUM = knee_locator.knee"
   ]
  },
  {
   "cell_type": "markdown",
   "metadata": {
    "tags": []
   },
   "source": [
    "PHENOPCS = [f'{modality}_PC_'+str(i) for i in range(1,PHENOPCA_NUM+1)] \n",
    "covs_columns_to_use += PHENOPCS"
   ]
  },
  {
   "cell_type": "code",
   "execution_count": null,
   "metadata": {
    "tags": []
   },
   "outputs": [],
   "source": [
    "GENOPCS = [f'GENPC'+str(i) for i in range(1,GPCA_NUM+1)] \n",
    "covs_columns_to_use += GENOPCS"
   ]
  },
  {
   "cell_type": "markdown",
   "metadata": {
    "tags": []
   },
   "source": [
    "columns_PC = []\n",
    "for i in range(1,21):\n",
    "    columns_PC.append(f\"{modality}_PC_\"+ str(i))"
   ]
  },
  {
   "cell_type": "code",
   "execution_count": null,
   "metadata": {
    "tags": []
   },
   "outputs": [],
   "source": [
    "df_EXP_PC = pd.DataFrame(pca_row,index=temp_EXP.index, columns=columns_PC)"
   ]
  },
  {
   "cell_type": "code",
   "execution_count": null,
   "metadata": {
    "tags": []
   },
   "outputs": [],
   "source": [
    "from sklearn import preprocessing\n",
    "scaledX = preprocessing.quantile_transform(df_EXP_PC, axis=0, copy=True,\n",
    "                                           output_distribution='normal')\n",
    "qtnorm_EXP_PC = pd.DataFrame(data=scaledX, columns=df_EXP_PC.columns,\n",
    "                               index=df_EXP_PC.index)"
   ]
  },
  {
   "cell_type": "code",
   "execution_count": null,
   "metadata": {
    "tags": []
   },
   "outputs": [],
   "source": [
    "qtnorm_EXP_PC"
   ]
  },
  {
   "cell_type": "code",
   "execution_count": null,
   "metadata": {
    "tags": []
   },
   "outputs": [],
   "source": [
    "qtnorm_EXP_PC.to_csv(qtnormalized_expression_pc)"
   ]
  },
  {
   "cell_type": "code",
   "execution_count": null,
   "metadata": {
    "tags": []
   },
   "outputs": [],
   "source": [
    "covs_df = covs_df.merge(qtnorm_EXP_PC,left_on=\"SampleId\", right_index=True)"
   ]
  },
  {
   "cell_type": "markdown",
   "metadata": {},
   "source": [
    "#### load plink pfiles"
   ]
  },
  {
   "cell_type": "code",
   "execution_count": null,
   "metadata": {
    "tags": []
   },
   "outputs": [],
   "source": [
    "columns_PC = []\n",
    "for i in range(1,21):\n",
    "    columns_PC.append(f\"{modality}_PCA\"+ str(i))"
   ]
  },
  {
   "cell_type": "code",
   "execution_count": null,
   "metadata": {
    "tags": []
   },
   "outputs": [],
   "source": [
    "df_EXP_PC = pd.DataFrame(pca_row,index=temp_EXP.index, columns=columns_PC)"
   ]
  },
  {
   "cell_type": "code",
   "execution_count": null,
   "metadata": {
    "tags": []
   },
   "outputs": [],
   "source": [
    "%%time\n",
    "\n",
    "# pr = genotypeio.PlinkReader(bfile_prefix_path, select_samples=phenotype_df.columns)\n",
    "pr = genotypeio.PlinkReader(bfile_prefix_path)\n",
    "genotype_df = pr.load_genotypes()\n",
    "variant_df = pr.bim.set_index('snp')[['chrom', 'pos']]"
   ]
  },
  {
   "cell_type": "code",
   "execution_count": null,
   "metadata": {
    "tags": []
   },
   "outputs": [],
   "source": [
    "variant_df.shape"
   ]
  },
  {
   "cell_type": "code",
   "execution_count": null,
   "metadata": {
    "tags": []
   },
   "outputs": [],
   "source": [
    "print(genotype_df.shape)\n",
    "# display(genotype_df.head())\n",
    "print(variant_df.shape)\n",
    "# display(variant_df.head())"
   ]
  },
  {
   "cell_type": "code",
   "execution_count": null,
   "metadata": {
    "tags": []
   },
   "outputs": [],
   "source": [
    "# tensorQTL says wants plink bfiles, but wants bim chrs to include 'chr'\n",
    "variant_df['chrom'] = 'chr' + variant_df['chrom']\n",
    "print(variant_df.shape)\n",
    "display(variant_df.head())"
   ]
  },
  {
   "cell_type": "markdown",
   "metadata": {},
   "source": [
    "#### make sure the pheno and genos have same samples"
   ]
  },
  {
   "cell_type": "code",
   "execution_count": null,
   "metadata": {
    "tags": []
   },
   "outputs": [],
   "source": [
    "phenotype_df"
   ]
  },
  {
   "cell_type": "code",
   "execution_count": null,
   "metadata": {
    "tags": []
   },
   "outputs": [],
   "source": [
    "assay_intersect_samples = set(genotype_df.columns) & set(phenotype_df.columns) \n",
    "print(f'intersect {len(assay_intersect_samples)}')\n",
    "extra_geno_samples = set(genotype_df.columns) - set(phenotype_df.columns)\n",
    "print(f'number of genotypes samples not in expression {len(extra_geno_samples)}')\n",
    "extra_expr_samples = set(phenotype_df.columns) - set(genotype_df.columns)\n",
    "print(f'number of expression samples not in genotypes {len(extra_expr_samples)}')\n",
    "\n",
    "# save the used sample list\n",
    "pd.DataFrame(data=assay_intersect_samples).to_csv(used_samples_list_file, \n",
    "                                                  index=False, header=False)"
   ]
  },
  {
   "cell_type": "markdown",
   "metadata": {},
   "source": [
    "#### drop the non-matched samples"
   ]
  },
  {
   "cell_type": "code",
   "execution_count": null,
   "metadata": {
    "tags": []
   },
   "outputs": [],
   "source": [
    "genotype_df.drop(columns=extra_geno_samples, inplace=True)\n",
    "phenotype_df.drop(columns=extra_expr_samples, inplace=True)\n",
    "\n",
    "print(genotype_df.shape)\n",
    "# display(genotype_df.head())\n",
    "print(phenotype_df.shape)\n",
    "# display(phenotype_df.head())"
   ]
  },
  {
   "cell_type": "markdown",
   "metadata": {},
   "source": [
    "#### need to make sure phenos and genos have matched chromosomes; ie just autosomes"
   ]
  },
  {
   "cell_type": "code",
   "execution_count": null,
   "metadata": {
    "tags": []
   },
   "outputs": [],
   "source": [
    "# need to ditch any non-autosomal genes\n",
    "assay_intersect_chroms = set(phenotype_pos_df['chr']) & set(variant_df['chrom']) \n",
    "print(f'intersect {len(assay_intersect_chroms)}')\n",
    "extra_geno_chroms = set(variant_df['chrom']) - set(phenotype_pos_df['chr'])\n",
    "print(f'number of genotypes chroms not in expression {len(extra_geno_chroms)}')\n",
    "print(extra_geno_chroms)\n",
    "extra_expr_chroms = set(phenotype_pos_df['chr']) - set(variant_df['chrom'])\n",
    "print(f'number of expression chroms not in genotypes {len(extra_expr_chroms)}')\n",
    "print(extra_expr_chroms)"
   ]
  },
  {
   "cell_type": "code",
   "execution_count": null,
   "metadata": {
    "tags": []
   },
   "outputs": [],
   "source": [
    "if len(extra_geno_chroms) > 0:\n",
    "    variant_df = variant_df.loc[~variant_df['chrom'].isin(extra_geno_chroms)]\n",
    "    # this will remove variants so need to remove them from genos df as well\n",
    "    genotype_df = genotype_df.loc[genotype_df.index.isin(variant_df.index)]\n",
    "if len(extra_expr_chroms) > 0:\n",
    "    phenotype_pos_df = phenotype_pos_df.loc[~phenotype_pos_df['chr'].isin(extra_expr_chroms)]\n",
    "    # this will remove genes so need to remove them from phenos df as well\n",
    "    phenotype_df = phenotype_df.loc[phenotype_df.index.isin(phenotype_pos_df.index)]\n",
    "\n",
    "print(genotype_df.shape)\n",
    "# display(genotype_df.head())\n",
    "print(variant_df.shape)\n",
    "# display(variant_df.head())\n",
    "print(phenotype_df.shape)\n",
    "# display(phenotype_df.head())\n",
    "print(phenotype_pos_df.shape)\n",
    "# display(phenotype_pos_df.head())"
   ]
  },
  {
   "cell_type": "markdown",
   "metadata": {
    "tags": []
   },
   "source": [
    "### make sure covariates match geno and pheno samples"
   ]
  },
  {
   "cell_type": "code",
   "execution_count": null,
   "metadata": {
    "tags": []
   },
   "outputs": [],
   "source": [
    "# subest covs to just this 'day'; ie all differention days covs in file\n",
    "# also since only interested in cell fractions as interaction terms, subset now\n",
    "covs_df = covs_df.loc[covs_df.SampleId.isin(phenotype_df.columns)]\n",
    "print(f'covs shape {covs_df.shape}')\n",
    "\n",
    "cov_intersect_samples = set(phenotype_df.columns) & set(covs_df.SampleId) \n",
    "print(f'intersect {len(cov_intersect_samples)}')\n",
    "extra_expr_samples = set(phenotype_df.columns) - set(covs_df.SampleId)\n",
    "print(f'number of endogenous samples not in covariates {len(extra_expr_samples)}')\n",
    "extra_cov_samples = set(covs_df.SampleId) - set(phenotype_df.columns)\n",
    "print(f'number of covariate samples not in exogenous {len(extra_cov_samples)}')"
   ]
  },
  {
   "cell_type": "markdown",
   "metadata": {
    "tags": []
   },
   "source": [
    "#### subset covariate to just desired (ie cell fractions) and shape for use with tensorqtl"
   ]
  },
  {
   "cell_type": "code",
   "execution_count": null,
   "metadata": {
    "tags": []
   },
   "outputs": [],
   "source": [
    "covs_df.columns"
   ]
  },
  {
   "cell_type": "code",
   "execution_count": null,
   "metadata": {
    "tags": []
   },
   "outputs": [],
   "source": [
    "covs_to_use = covs_df[['SampleId'] + covs_columns_to_use]\n",
    "covs_to_use.drop_duplicates(subset=['SampleId'], keep='first', inplace=True)\n",
    "covs_to_use.set_index('SampleId', inplace=True)\n",
    "# re-order columns to match phenotypes\n",
    "covs_to_use = covs_to_use.transpose()\n",
    "covs_to_use = covs_to_use[phenotype_df.columns]\n",
    "# now transpose back\n",
    "covs_to_use = covs_to_use.transpose()\n",
    "print(covs_to_use.shape)\n",
    "#if DEBUG:\n",
    "#    display(covs_to_use.head())"
   ]
  },
  {
   "cell_type": "markdown",
   "metadata": {},
   "source": [
    "#### in rare instances a single sample will be missing a covariate, mean fill for simplicity"
   ]
  },
  {
   "cell_type": "code",
   "execution_count": null,
   "metadata": {
    "tags": []
   },
   "outputs": [],
   "source": [
    "for covariate in covs_to_use.columns:\n",
    "    mean_val = covs_to_use[covariate].mean()\n",
    "    if covs_to_use[covariate].nunique() == 2:\n",
    "        mean_val = int(mean_val)\n",
    "    covs_to_use[covariate].fillna(mean_val, inplace=True)\n",
    "print(covs_to_use.shape)\n",
    "if DEBUG:\n",
    "    display(covs_to_use.head())"
   ]
  },
  {
   "cell_type": "code",
   "execution_count": null,
   "metadata": {
    "tags": []
   },
   "outputs": [],
   "source": [
    "covs_to_use.drop(['JHU','MIAMI'],inplace=True, axis=1)"
   ]
  },
  {
   "cell_type": "code",
   "execution_count": null,
   "metadata": {
    "scrolled": true,
    "tags": []
   },
   "outputs": [],
   "source": [
    "for covariate in covs_to_use.columns:\n",
    "    mean_val = covs_to_use[covariate].mean()\n",
    "    print(covariate)\n",
    "    print(mean_val)"
   ]
  },
  {
   "cell_type": "markdown",
   "metadata": {},
   "source": [
    "#### *cis*-QTL: nominal p-values for all variant-phenotype pairs"
   ]
  },
  {
   "cell_type": "code",
   "execution_count": null,
   "metadata": {
    "tags": []
   },
   "outputs": [],
   "source": [
    "%%time\n",
    "# map all cis-associations (results for each chromosome are written to file)\n",
    "# all features\n",
    "cis.map_nominal(genotype_df, variant_df,  phenotype_df, phenotype_pos_df, \n",
    "                covariates_df=covs_to_use, prefix=set_name, output_dir=tensorqtl_dir, \n",
    "                run_eigenmt=True, write_top=True, write_stats=True, verbose=False, maf_threshold=MIN_MAF)"
   ]
  },
  {
   "cell_type": "markdown",
   "metadata": {},
   "source": [
    "#### *cis*-QTL: empirical p-values for phenotypes"
   ]
  },
  {
   "cell_type": "code",
   "execution_count": null,
   "metadata": {
    "tags": []
   },
   "outputs": [],
   "source": [
    "%%time\n",
    "# all genes\n",
    "cis_df = cis.map_cis(genotype_df, variant_df, phenotype_df, phenotype_pos_df,covs_to_use, \n",
    "                     warn_monomorphic=False, verbose=False, maf_threshold=MIN_MAF)\n",
    "\n",
    "# don't have to replace the monorphic anymore tensorqtl added flag to silence\n",
    "# note I commented out the following bit of code in tensorqtl/cis.py to reduce log spill\n",
    "# logger.write('    * WARNING: excluding {} monomorphic variants'.format(mono_t.sum()))\n",
    "\n",
    "# commented printing this exception in core.py to reduce non-log spill\n",
    "# print('WARNING: scipy.optimize.newton failed to converge (running scipy.optimize.minimize)')"
   ]
  },
  {
   "cell_type": "markdown",
   "metadata": {},
   "source": [
    "#### compute the FDR"
   ]
  },
  {
   "cell_type": "code",
   "execution_count": null,
   "metadata": {
    "tags": []
   },
   "outputs": [],
   "source": [
    "# add the corrected p-value, note just based on all chrom features pvalues    \n",
    "# just using B&H FDR from statsmodel is approx equivalent to Storey qvalue, tested\n",
    "cis_df['bh_fdr'] = compute_fdr(cis_df['pval_beta'].fillna(1))\n",
    "\n",
    "# tensorQTL uses qvalue, but requires the R packages so use above BH FDR instead to approx\n",
    "tensorqtl.calculate_qvalues(cis_df, qvalue_lambda=0.85)"
   ]
  },
  {
   "cell_type": "code",
   "execution_count": null,
   "metadata": {
    "tags": []
   },
   "outputs": [],
   "source": [
    "print(cis_df.shape)\n",
    "display(cis_df.head())"
   ]
  },
  {
   "cell_type": "code",
   "execution_count": 135,
   "metadata": {},
   "outputs": [
    {
     "name": "stdout",
     "output_type": "stream",
     "text": [
      "(18,)\n",
      "(34,)\n",
      "(34,)\n",
      "(3,)\n"
     ]
    }
   ],
   "source": [
    "print(cis_df.loc[cis_df['pval_nominal'] <= min_nominal_alpha].index.unique().shape)\n",
    "print(cis_df.loc[cis_df['pval_perm'] <= alpha_value].index.unique().shape)\n",
    "print(cis_df.loc[cis_df['pval_beta'] <= alpha_value].index.unique().shape)\n",
    "print(cis_df.loc[cis_df['qval'] <= alpha_value].index.unique().shape)"
   ]
  },
  {
   "cell_type": "markdown",
   "metadata": {},
   "source": [
    "#### save cis map"
   ]
  },
  {
   "cell_type": "code",
   "execution_count": null,
   "metadata": {
    "tags": []
   },
   "outputs": [],
   "source": [
    "%%time\n",
    "cis_df.to_csv(cis_map_file)"
   ]
  },
  {
   "cell_type": "markdown",
   "metadata": {},
   "source": [
    "#### map the loci independent signals"
   ]
  },
  {
   "cell_type": "code",
   "execution_count": null,
   "metadata": {
    "tags": []
   },
   "outputs": [],
   "source": [
    "# # use the B&H fdr instead of Storey qvalue\n",
    "indep_df = cis.map_independent(genotype_df, variant_df, cis_df, phenotype_df, \n",
    "                                phenotype_pos_df, covs_to_use,\n",
    "                                fdr_col='qval', verbose=False, maf_threshold=MIN_MAF)"
   ]
  },
  {
   "cell_type": "code",
   "execution_count": null,
   "metadata": {
    "tags": []
   },
   "outputs": [],
   "source": [
    "print(indep_df.shape)\n",
    "display(indep_df.head())\n",
    "print(indep_df['phenotype_id'].unique().shape)"
   ]
  },
  {
   "cell_type": "code",
   "execution_count": null,
   "metadata": {
    "scrolled": true,
    "tags": []
   },
   "outputs": [],
   "source": [
    "indep_df['rank'].value_counts()"
   ]
  },
  {
   "cell_type": "markdown",
   "metadata": {},
   "source": [
    "#### save the loci independent signals"
   ]
  },
  {
   "cell_type": "code",
   "execution_count": null,
   "metadata": {
    "tags": []
   },
   "outputs": [],
   "source": [
    "indep_df.to_csv(cis_indep_file)"
   ]
  },
  {
   "cell_type": "code",
   "execution_count": null,
   "metadata": {
    "tags": []
   },
   "outputs": [],
   "source": [
    "indep_df.loc[indep_df['pval_nominal'] == indep_df['pval_nominal'].min()]"
   ]
  },
  {
   "cell_type": "code",
   "execution_count": null,
   "metadata": {
    "tags": []
   },
   "outputs": [],
   "source": [
    "!date"
   ]
  }
 ],
 "metadata": {
  "environment": {
   "name": "pytorch-gpu.1-9.m75",
   "type": "gcloud",
   "uri": "gcr.io/deeplearning-platform-release/pytorch-gpu.1-9:m75"
  },
  "kernelspec": {
   "display_name": "python/3.8",
   "language": "python",
   "name": "py3.8"
  },
  "language_info": {
   "codemirror_mode": {
    "name": "ipython",
    "version": 3
   },
   "file_extension": ".py",
   "mimetype": "text/x-python",
   "name": "python",
   "nbconvert_exporter": "python",
   "pygments_lexer": "ipython3",
   "version": "3.8.15"
  },
  "toc-autonumbering": false,
  "toc-showcode": false,
  "toc-showmarkdowntxt": false,
  "widgets": {
   "application/vnd.jupyter.widget-state+json": {
    "state": {},
    "version_major": 2,
    "version_minor": 0
   }
  }
 },
 "nbformat": 4,
 "nbformat_minor": 4
}
