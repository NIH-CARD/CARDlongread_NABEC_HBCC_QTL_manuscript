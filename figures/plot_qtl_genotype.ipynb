{
 "cells": [
  {
   "cell_type": "markdown",
   "id": "8615262c",
   "metadata": {},
   "source": [
    "#### import libraries and set notebook variables"
   ]
  },
  {
   "cell_type": "code",
   "execution_count": null,
   "id": "09702daf-047f-4856-a900-4ef1f74cd205",
   "metadata": {
    "scrolled": true
   },
   "outputs": [],
   "source": [
    "import pandas as pd\n",
    "import torch\n",
    "import tensorqtl.tensorqtl as tensorqtl\n",
    "from tensorqtl.tensorqtl import genotypeio\n",
    "print('PyTorch {}'.format(torch.__version__))\n",
    "print('Pandas {}'.format(pd.__version__))\n",
    "import seaborn as sns\n",
    "import matplotlib.pyplot as plt"
   ]
  },
  {
   "cell_type": "code",
   "execution_count": null,
   "id": "ac66d1b3-7a4b-427c-8197-e3110df39c6c",
   "metadata": {
    "editable": true,
    "slideshow": {
     "slide_type": ""
    },
    "tags": []
   },
   "outputs": [],
   "source": [
    "cohort = 'nabec'\n",
    "version = 'Aug_2024'\n",
    "target = 'cpg_islands'\n",
    "gene_name = 'chr19_54982861_54983167_CpG:_30'\n",
    "varianttype_caller = 'SV_harmonized_SNV'"
   ]
  },
  {
   "cell_type": "code",
   "execution_count": null,
   "id": "7fc22b65-075d-4055-897f-c56a5ded190e",
   "metadata": {},
   "outputs": [],
   "source": [
    "# naming\n",
    "cohort_build = f'{cohort}.{version}'\n",
    "cohort_version_target = f'{cohort}_{version}_{target}'\n",
    "set_name = f'{cohort}_{version}_{target}_{varianttype_caller}'\n",
    "\n",
    "\n",
    "interaction_term = None\n",
    "\n",
    "\n",
    "\n",
    "if interaction_term == '':\n",
    "    interaction_term = None\n",
    "\n",
    "    term_file = None\n",
    "# directories\n",
    "in_dir = f'/data/CARDPB/data/NABEC/projects/QTL_paper_2024/SV-mQTL'\n",
    "geno_dir = f'{in_dir}/genotypes/{varianttype_caller}'\n",
    "quants_dir = f'{in_dir}/expression'\n",
    "info_dir = f'{in_dir}/sample_info'\n",
    "tensorqtl_dir = f'{in_dir}/tenosorqtl/{set_name}'\n",
    "results_dir = f'{in_dir}/results/{set_name}'\n",
    "\n",
    "# input files\n",
    "qtl_results_file = f'{tensorqtl_dir}/{set_name}.cis.map.csv'\n",
    "quants_bed_raw_file = f'{quants_dir}/{cohort_version_target}.raw_percentage.bed.gz'\n",
    "\n",
    "if varianttype_caller == 'SNV_illumina':\n",
    "    bfile_prefix_path = f'{geno_dir}/MERGED_MAF_GENO005_HWE_0001_ONT_plink19_Jul2024'\n",
    "    \n",
    "elif varianttype_caller ==  'SV_harmonized':\n",
    "    bfile_prefix_path = f'{geno_dir}/nabec_GENO_MAF_005_HWE_0001_updateid'\n",
    "elif varianttype_caller ==  'SV_harmonized_SNV':\n",
    "    bfile_prefix_path = f'{geno_dir}/harmonized_SV_SNV_MAF_GENO_005_HWE_0001'"
   ]
  },
  {
   "cell_type": "markdown",
   "id": "d86554fd-f6ec-4480-9d8a-750d2b3ff7c0",
   "metadata": {},
   "source": [
    "### get the variant name"
   ]
  },
  {
   "cell_type": "code",
   "execution_count": null,
   "id": "77926567-d44e-4bd2-97bf-e14021d214f9",
   "metadata": {
    "editable": true,
    "slideshow": {
     "slide_type": ""
    },
    "tags": []
   },
   "outputs": [],
   "source": [
    "SIG_HITS = pd.read_csv(qtl_results_file)"
   ]
  },
  {
   "cell_type": "markdown",
   "id": "aca6bfc1-7119-47a6-b83c-240d8c6ec23a",
   "metadata": {
    "scrolled": true
   },
   "source": [
    "display(SIG_HITS[SIG_HITS['phenotype_id']==gene_name])\n",
    "variant=SIG_HITS[SIG_HITS['phenotype_id']==gene_name]['variant_id'].iloc[0]"
   ]
  },
  {
   "cell_type": "markdown",
   "id": "1eaac28e",
   "metadata": {},
   "source": [
    "#### load plink bfiles"
   ]
  },
  {
   "cell_type": "markdown",
   "id": "ec6cb276-7d6d-44da-acfa-7e5805b722b4",
   "metadata": {},
   "source": [
    "%%time\n",
    "\n",
    "# pr = genotypeio.PlinkReader(bfile_prefix_path, select_samples=phenotype_df.columns)\n",
    "pr = genotypeio.PlinkReader(bfile_prefix_path)\n",
    "genotype_df = pr.load_genotypes()\n",
    "variant_df = pr.bim.set_index('snp')[['chrom', 'pos']]"
   ]
  },
  {
   "cell_type": "markdown",
   "id": "911bff32",
   "metadata": {},
   "source": [
    "#### load phenotypes and covariates (if needed)"
   ]
  },
  {
   "cell_type": "code",
   "execution_count": 10,
   "id": "07bffd79",
   "metadata": {
    "scrolled": true
   },
   "outputs": [
    {
     "name": "stdout",
     "output_type": "stream",
     "text": [
      "CPU times: user 1.69 s, sys: 46.7 ms, total: 1.74 s\n",
      "Wall time: 1.78 s\n"
     ]
    }
   ],
   "source": [
    "%%time\n",
    "\n",
    "phenotype_df = pd.read_csv(quants_bed_raw_file,index_col=0)\n",
    "phenotype_df = phenotype_df.T"
   ]
  },
  {
   "cell_type": "code",
   "execution_count": 11,
   "id": "efca1263",
   "metadata": {},
   "outputs": [
    {
     "data": {
      "text/html": [
       "<div>\n",
       "<style scoped>\n",
       "    .dataframe tbody tr th:only-of-type {\n",
       "        vertical-align: middle;\n",
       "    }\n",
       "\n",
       "    .dataframe tbody tr th {\n",
       "        vertical-align: top;\n",
       "    }\n",
       "\n",
       "    .dataframe thead th {\n",
       "        text-align: right;\n",
       "    }\n",
       "</style>\n",
       "<table border=\"1\" class=\"dataframe\">\n",
       "  <thead>\n",
       "    <tr style=\"text-align: right;\">\n",
       "      <th></th>\n",
       "      <th>KEN-1066</th>\n",
       "      <th>KEN-1069</th>\n",
       "      <th>KEN-1070</th>\n",
       "      <th>KEN-1092</th>\n",
       "      <th>KEN-1095</th>\n",
       "      <th>KEN-1106</th>\n",
       "      <th>KEN-1127</th>\n",
       "      <th>KEN-1131</th>\n",
       "      <th>KEN-1132</th>\n",
       "      <th>KEN-1142</th>\n",
       "      <th>...</th>\n",
       "      <th>UMARY-602</th>\n",
       "      <th>UMARY-604</th>\n",
       "      <th>UMARY-650</th>\n",
       "      <th>UMARY-671</th>\n",
       "      <th>UMARY-794</th>\n",
       "      <th>UMARY-813</th>\n",
       "      <th>UMARY-818</th>\n",
       "      <th>UMARY-819</th>\n",
       "      <th>UMARY-914</th>\n",
       "      <th>UMARY-933</th>\n",
       "    </tr>\n",
       "  </thead>\n",
       "  <tbody>\n",
       "    <tr>\n",
       "      <th>chr1_381172_382185_CpG:_84</th>\n",
       "      <td>84.347143</td>\n",
       "      <td>86.472143</td>\n",
       "      <td>91.612262</td>\n",
       "      <td>88.622051</td>\n",
       "      <td>87.155238</td>\n",
       "      <td>90.212738</td>\n",
       "      <td>90.228452</td>\n",
       "      <td>88.865595</td>\n",
       "      <td>86.666512</td>\n",
       "      <td>88.668929</td>\n",
       "      <td>...</td>\n",
       "      <td>89.259405</td>\n",
       "      <td>88.617500</td>\n",
       "      <td>91.521190</td>\n",
       "      <td>NaN</td>\n",
       "      <td>89.358421</td>\n",
       "      <td>85.555714</td>\n",
       "      <td>88.236190</td>\n",
       "      <td>87.395000</td>\n",
       "      <td>90.428214</td>\n",
       "      <td>86.123810</td>\n",
       "    </tr>\n",
       "    <tr>\n",
       "      <th>chr1_609358_611269_CpG:_171</th>\n",
       "      <td>93.843977</td>\n",
       "      <td>93.528304</td>\n",
       "      <td>93.053509</td>\n",
       "      <td>NaN</td>\n",
       "      <td>90.954444</td>\n",
       "      <td>93.209708</td>\n",
       "      <td>92.591170</td>\n",
       "      <td>93.556550</td>\n",
       "      <td>94.589649</td>\n",
       "      <td>91.675731</td>\n",
       "      <td>...</td>\n",
       "      <td>92.793392</td>\n",
       "      <td>92.146140</td>\n",
       "      <td>92.005906</td>\n",
       "      <td>94.389879</td>\n",
       "      <td>93.716257</td>\n",
       "      <td>89.063216</td>\n",
       "      <td>92.709298</td>\n",
       "      <td>92.262339</td>\n",
       "      <td>94.523275</td>\n",
       "      <td>93.618421</td>\n",
       "    </tr>\n",
       "    <tr>\n",
       "      <th>chr1_778604_779167_CpG:_60</th>\n",
       "      <td>5.436333</td>\n",
       "      <td>2.207667</td>\n",
       "      <td>4.441667</td>\n",
       "      <td>4.052333</td>\n",
       "      <td>4.366667</td>\n",
       "      <td>3.072500</td>\n",
       "      <td>3.627833</td>\n",
       "      <td>1.938500</td>\n",
       "      <td>4.886667</td>\n",
       "      <td>1.315833</td>\n",
       "      <td>...</td>\n",
       "      <td>1.676167</td>\n",
       "      <td>2.583333</td>\n",
       "      <td>1.860167</td>\n",
       "      <td>2.579333</td>\n",
       "      <td>2.986000</td>\n",
       "      <td>1.913667</td>\n",
       "      <td>4.361667</td>\n",
       "      <td>1.652833</td>\n",
       "      <td>2.368667</td>\n",
       "      <td>4.758333</td>\n",
       "    </tr>\n",
       "    <tr>\n",
       "      <th>chr1_866595_866958_CpG:_24</th>\n",
       "      <td>72.594167</td>\n",
       "      <td>63.636667</td>\n",
       "      <td>72.582174</td>\n",
       "      <td>70.010417</td>\n",
       "      <td>75.452500</td>\n",
       "      <td>70.335417</td>\n",
       "      <td>68.557500</td>\n",
       "      <td>73.422500</td>\n",
       "      <td>70.826957</td>\n",
       "      <td>75.184167</td>\n",
       "      <td>...</td>\n",
       "      <td>67.574583</td>\n",
       "      <td>67.895652</td>\n",
       "      <td>77.715417</td>\n",
       "      <td>74.161905</td>\n",
       "      <td>75.442917</td>\n",
       "      <td>74.000833</td>\n",
       "      <td>67.866522</td>\n",
       "      <td>75.707826</td>\n",
       "      <td>75.964583</td>\n",
       "      <td>72.073043</td>\n",
       "    </tr>\n",
       "    <tr>\n",
       "      <th>chr1_869818_870248_CpG:_50</th>\n",
       "      <td>14.138400</td>\n",
       "      <td>11.988600</td>\n",
       "      <td>10.570800</td>\n",
       "      <td>12.845000</td>\n",
       "      <td>12.367000</td>\n",
       "      <td>13.049400</td>\n",
       "      <td>12.711600</td>\n",
       "      <td>12.253200</td>\n",
       "      <td>11.276000</td>\n",
       "      <td>12.003600</td>\n",
       "      <td>...</td>\n",
       "      <td>9.947400</td>\n",
       "      <td>13.303000</td>\n",
       "      <td>10.937600</td>\n",
       "      <td>11.620400</td>\n",
       "      <td>15.603800</td>\n",
       "      <td>8.977000</td>\n",
       "      <td>13.433200</td>\n",
       "      <td>9.745400</td>\n",
       "      <td>10.391800</td>\n",
       "      <td>13.516000</td>\n",
       "    </tr>\n",
       "  </tbody>\n",
       "</table>\n",
       "<p>5 rows × 206 columns</p>\n",
       "</div>"
      ],
      "text/plain": [
       "                              KEN-1066   KEN-1069   KEN-1070   KEN-1092  \\\n",
       "chr1_381172_382185_CpG:_84   84.347143  86.472143  91.612262  88.622051   \n",
       "chr1_609358_611269_CpG:_171  93.843977  93.528304  93.053509        NaN   \n",
       "chr1_778604_779167_CpG:_60    5.436333   2.207667   4.441667   4.052333   \n",
       "chr1_866595_866958_CpG:_24   72.594167  63.636667  72.582174  70.010417   \n",
       "chr1_869818_870248_CpG:_50   14.138400  11.988600  10.570800  12.845000   \n",
       "\n",
       "                              KEN-1095   KEN-1106   KEN-1127   KEN-1131  \\\n",
       "chr1_381172_382185_CpG:_84   87.155238  90.212738  90.228452  88.865595   \n",
       "chr1_609358_611269_CpG:_171  90.954444  93.209708  92.591170  93.556550   \n",
       "chr1_778604_779167_CpG:_60    4.366667   3.072500   3.627833   1.938500   \n",
       "chr1_866595_866958_CpG:_24   75.452500  70.335417  68.557500  73.422500   \n",
       "chr1_869818_870248_CpG:_50   12.367000  13.049400  12.711600  12.253200   \n",
       "\n",
       "                              KEN-1132   KEN-1142  ...  UMARY-602  UMARY-604  \\\n",
       "chr1_381172_382185_CpG:_84   86.666512  88.668929  ...  89.259405  88.617500   \n",
       "chr1_609358_611269_CpG:_171  94.589649  91.675731  ...  92.793392  92.146140   \n",
       "chr1_778604_779167_CpG:_60    4.886667   1.315833  ...   1.676167   2.583333   \n",
       "chr1_866595_866958_CpG:_24   70.826957  75.184167  ...  67.574583  67.895652   \n",
       "chr1_869818_870248_CpG:_50   11.276000  12.003600  ...   9.947400  13.303000   \n",
       "\n",
       "                             UMARY-650  UMARY-671  UMARY-794  UMARY-813  \\\n",
       "chr1_381172_382185_CpG:_84   91.521190        NaN  89.358421  85.555714   \n",
       "chr1_609358_611269_CpG:_171  92.005906  94.389879  93.716257  89.063216   \n",
       "chr1_778604_779167_CpG:_60    1.860167   2.579333   2.986000   1.913667   \n",
       "chr1_866595_866958_CpG:_24   77.715417  74.161905  75.442917  74.000833   \n",
       "chr1_869818_870248_CpG:_50   10.937600  11.620400  15.603800   8.977000   \n",
       "\n",
       "                             UMARY-818  UMARY-819  UMARY-914  UMARY-933  \n",
       "chr1_381172_382185_CpG:_84   88.236190  87.395000  90.428214  86.123810  \n",
       "chr1_609358_611269_CpG:_171  92.709298  92.262339  94.523275  93.618421  \n",
       "chr1_778604_779167_CpG:_60    4.361667   1.652833   2.368667   4.758333  \n",
       "chr1_866595_866958_CpG:_24   67.866522  75.707826  75.964583  72.073043  \n",
       "chr1_869818_870248_CpG:_50   13.433200   9.745400  10.391800  13.516000  \n",
       "\n",
       "[5 rows x 206 columns]"
      ]
     },
     "metadata": {},
     "output_type": "display_data"
    }
   ],
   "source": [
    "display(phenotype_df.head())\n",
    "# display(phenotype_pos_df.head())"
   ]
  },
  {
   "cell_type": "code",
   "execution_count": 12,
   "id": "545e10b4",
   "metadata": {},
   "outputs": [],
   "source": [
    "if not interaction_term is None:\n",
    "    covs_df = pd.read_csv(term_file, index_col=0)\n",
    "    print(f'covariates_df {covs_df.shape}')\n",
    "    # go ahead and subset to specified term of interest\n",
    "    # have two different covariate and interaction term formats to deal with\n",
    "    try:\n",
    "        term_df = covs_df.loc[(covs_df['day'] == day) & \n",
    "                              (covs_df['sampleid'].isin(phenotype_df.columns)), \n",
    "                              ['day', 'sampleid', interaction_term]]\n",
    "    except:\n",
    "        term_df = covs_df.loc[(covs_df.index.isin(phenotype_df.columns)), \n",
    "                              [interaction_term]].copy()\n",
    "        term_df['day'] = visit_name\n",
    "        term_df['sampleid'] = term_df.index\n",
    "    print(f'term_df {term_df.shape}')\n",
    "#     display(term_df.head())\n",
    "else:\n",
    "    term_df = None"
   ]
  },
  {
   "cell_type": "code",
   "execution_count": null,
   "id": "69077671-6787-4fec-9d99-8473b313d679",
   "metadata": {
    "tags": []
   },
   "outputs": [],
   "source": [
    "variant_geno_df = genotype_df.loc[genotype_df.index == variant].T\n",
    "print(variant_geno_df.shape)\n",
    "# display(variant_geno_df.head())"
   ]
  },
  {
   "cell_type": "markdown",
   "id": "8e2f1539",
   "metadata": {},
   "source": [
    "#### merge the data frames"
   ]
  },
  {
   "cell_type": "code",
   "execution_count": null,
   "id": "06426cde-1ce5-4053-8abb-41ea0c9de5a6",
   "metadata": {},
   "outputs": [],
   "source": [
    "merged_df = variant_geno_df.merge(gene_pheno_df, how='inner', \n",
    "                                  left_index=True, right_index=True)\n",
    "print(merged_df.shape)\n",
    "if not term_df is None:\n",
    "    merged_df = merged_df.merge(term_df, how='inner', left_index=True, right_on='sampleid')\n",
    "\n",
    "print(merged_df.shape)\n",
    "# display(merged_df.head())"
   ]
  },
  {
   "cell_type": "code",
   "execution_count": 18,
   "id": "d1c1f94a-8d7f-49f9-81ab-74d7229d176e",
   "metadata": {
    "tags": []
   },
   "outputs": [],
   "source": [
    "merged_df = merged_df[merged_df[variant]!=-1]"
   ]
  },
  {
   "cell_type": "markdown",
   "id": "4ac21b98",
   "metadata": {},
   "source": [
    "#### generate the plot(s)"
   ]
  },
  {
   "cell_type": "code",
   "execution_count": 19,
   "id": "342508e2",
   "metadata": {
    "tags": []
   },
   "outputs": [
    {
     "data": {
      "image/png": "[encoded data removed]",
      "text/plain": [
       "<Figure size 648x648 with 1 Axes>"
      ]
     },
     "metadata": {
      "needs_background": "light"
     },
     "output_type": "display_data"
    }
   ],
   "source": [
    "# plot typical expression by genotype plot\n",
    "plt.figure(figsize=(9,9))\n",
    "sns.boxenplot(x=variant, y=gene_name, scale='exponential', \n",
    "              data=merged_df, k_depth='trustworthy', color='#1f77b4')\n",
    "\n",
    "# Overlay the strip plot\n",
    "grsplt = sns.stripplot(x=variant, y=gene_name, data=merged_df, \n",
    "                       alpha=0.75, jitter=True, color='darkgrey')\n",
    "\n",
    "# Increase the font size for ticks\n",
    "loc, labels = plt.xticks(fontsize=30)  # Change fontsize here\n",
    "grsplt.set_xticklabels(labels, fontsize=30)\n",
    "\n",
    "plt.yticks(fontsize=30)  # Y-tick label fontsize\n",
    "plt.ylim(50, 100)\n",
    "\n",
    "#plt.title(f'{gene_name} expression by {variant} genotype', fontsize='large') \n",
    "plt.xlabel('Genotype', fontsize=30)\n",
    "plt.ylabel('Methylation', fontsize=30)\n",
    "plt.ylabel('', fontsize=30)  # Y-axis label fontsize\n",
    "#plt.show()\n",
    "plt.savefig(f'/data/CARDPB/data/NABEC/projects/QTL_paper_2024/newSV-mQTL/figures/{gene_name}_{variant}_expression.png', dpi=300)"
   ]
  },
  {
   "cell_type": "code",
   "execution_count": null,
   "id": "f01c69bd",
   "metadata": {},
   "outputs": [],
   "source": []
  }
 ],
 "metadata": {
  "environment": {
   "name": "pytorch-gpu.1-9.m75",
   "type": "gcloud",
   "uri": "gcr.io/deeplearning-platform-release/pytorch-gpu.1-9:m75"
  },
  "kernelspec": {
   "display_name": "python/3.8",
   "language": "python",
   "name": "py3.8"
  },
  "language_info": {
   "codemirror_mode": {
    "name": "ipython",
    "version": 3
   },
   "file_extension": ".py",
   "mimetype": "text/x-python",
   "name": "python",
   "nbconvert_exporter": "python",
   "pygments_lexer": "ipython3",
   "version": "3.8.15"
  },
  "widgets": {
   "application/vnd.jupyter.widget-state+json": {
    "state": {},
    "version_major": 2,
    "version_minor": 0
   }
  }
 },
 "nbformat": 4,
 "nbformat_minor": 5
}
