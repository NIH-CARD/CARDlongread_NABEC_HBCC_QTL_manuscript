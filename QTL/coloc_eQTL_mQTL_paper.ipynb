{
 "cells": [
  {
   "cell_type": "markdown",
   "id": "a973c735-6cef-4420-97d3-4a4ebb0b9914",
   "metadata": {},
   "source": [
    "## coloc for eQTL and mQTL"
   ]
  },
  {
   "cell_type": "code",
   "execution_count": null,
   "id": "d1967e46-66e0-4305-b7fa-6d32dac6179b",
   "metadata": {
    "scrolled": true
   },
   "outputs": [],
   "source": [
    "library(pacman)\n",
    "library(arrow)\n",
    "library(coloc)\n",
    "library(dplyr)"
   ]
  },
  {
   "cell_type": "code",
   "execution_count": null,
   "id": "e2a5f38d-26bd-461b-9cd9-8fb9e5d0703a",
   "metadata": {
    "editable": true,
    "slideshow": {
     "slide_type": ""
    },
    "tags": [
     "parameters"
    ]
   },
   "outputs": [],
   "source": [
    "cohort <- 'nabec'\n",
    "version <- 'July_2024'\n",
    "target <- 'rna_TPM' #'RNA' 'cpg_islands_cov**'\n",
    "meth <- \"promoters2Kb\"\n",
    "varianttype_caller <- 'SV_harmonized_SNV' #SV SNV SNV_SV"
   ]
  },
  {
   "cell_type": "code",
   "execution_count": null,
   "id": "0ffaddaf-23e1-4f20-aa57-c85c7f0bf303",
   "metadata": {},
   "outputs": [],
   "source": [
    "eQTL_samplesize <- 205\n",
    "mQTL_samplesize <- 205\n",
    "type <- \"quant\""
   ]
  },
  {
   "cell_type": "markdown",
   "id": "5f666362-1736-48f4-a5f5-315e467126a8",
   "metadata": {},
   "source": [
    "### set exp ~ meth files"
   ]
  },
  {
   "cell_type": "code",
   "execution_count": null,
   "id": "db91332c-08c3-435f-9cf8-8eb90b2daaf3",
   "metadata": {
    "tags": []
   },
   "outputs": [],
   "source": [
    "# parameters\n",
    "modality <- 'RNAB'\n",
    "set_name <- paste(cohort, version, target, varianttype_caller, \"prun\", sep = \"_\")\n",
    "cohort_version_target <- paste(cohort, version, target, sep = \"_\")\n",
    "\n",
    "# directories\n",
    "in_dir <- \"/data/CARDPB/data/NABEC/projects/QTL_paper_2024/SV-eQTL\"\n",
    "geno_dir <- file.path(in_dir, \"genotypes\", varianttype_caller)\n",
    "quants_dir <- file.path(in_dir, \"expression\")\n",
    "info_dir <- file.path(in_dir, \"sample_info\")\n",
    "tensorqtl_dir <- file.path(\"/data/CARDPB/data/NABEC/projects/QTL_paper_2024/newSV-eQTL/tenosorqtl\", paste(set_name,\"sorted\", sep = \"_\"))\n",
    "results_dir <- file.path(\"/data/CARDPB/data/NABEC/projects/QTL_paper_2024/newSV-eQTL/results\", paste(set_name, \"sorted\", sep = \"_\"))\n",
    "\n",
    "\n",
    "\n",
    "# file path\n",
    "cis_indep_file <- file.path(results_dir, paste0(set_name, \".cis.indep.csv\"))\n",
    "cis_map_file <- file.path(tensorqtl_dir, paste0(set_name, \".cis.map.csv\"))\n",
    "cis_exp_file <- file.path(tensorqtl_dir, paste0(set_name, \".cis_qtl_pairs.\"))\n",
    "\n",
    "qtnormalized_expression_pc <- file.path(info_dir, paste0(cohort_version_target, \".normPC.csv\"))\n",
    "\n",
    "# numbers\n",
    "alpha_value <- 0.05\n",
    "min_nominal_alpha <- 1e-5\n",
    "MIN_MAF <- 0\n",
    "DEBUG <- FALSE\n",
    "\n",
    "\n",
    "# exp_meth file\n",
    "used_samples_list_file <- file.path(info_dir, paste0(set_name, \".samples\"))\n",
    "cis_exp_meth_indep_file <- file.path(results_dir, paste0(set_name, \".cis.indep.csv\"))\n",
    "cis_exp_meth_file <- file.path(tensorqtl_dir, paste0(set_name, \".cis.map.csv\"))\n",
    "cis_exp_meth_raw_file <- file.path(tensorqtl_dir, paste0(set_name, \".cis_qtl_pairs.\"))\n",
    "qtnormalized_expression_pc <- file.path(info_dir, paste0(cohort_version_target, \".normPC.csv\"))\n"
   ]
  },
  {
   "cell_type": "markdown",
   "id": "0ccfd9d4-339f-47b6-8039-17472999b632",
   "metadata": {
    "tags": []
   },
   "source": [
    "## set mQTL files"
   ]
  },
  {
   "cell_type": "code",
   "execution_count": null,
   "id": "c5e9a0a8-df57-4c7f-adfb-49ec2380694f",
   "metadata": {
    "editable": true,
    "slideshow": {
     "slide_type": ""
    },
    "tags": [
     "parameters"
    ]
   },
   "outputs": [],
   "source": [
    "cohort <- \"nabec\"\n",
    "version <- \"Aug_2024\"\n",
    "varianttype_caller <- \"SV_harmonized_SNV\""
   ]
  },
  {
   "cell_type": "code",
   "execution_count": null,
   "id": "90c90f13-4163-444e-a93a-e6431b6e10c2",
   "metadata": {
    "tags": []
   },
   "outputs": [],
   "source": [
    "# Naming\n",
    "modality <- 'METH'\n",
    "# cohort_build <- paste(cohort, version, target, sep = \".\")\n",
    "set_name <- paste(cohort, version, meth, varianttype_caller, sep = \"_\")\n",
    "# Make sure if using both SV and SNV, use \"SNV_SV_{caller}\"\n",
    "cohort_version_target <- paste(cohort, version, target, sep = \"_\")\n",
    "\n",
    "# Directories\n",
    "in_dir <- '/data/CARDPB/data/NABEC/projects/QTL_paper_2024/SV-mQTL'\n",
    "geno_dir <- file.path(in_dir, 'genotypes', varianttype_caller)\n",
    "quants_dir <- file.path(in_dir, 'expression')\n",
    "info_dir <- file.path(in_dir, 'sample_info')\n",
    "tensorqtl_dir <- file.path('/data/CARDPB/data/NABEC/projects/QTL_paper_2024/newSV-mQTL/tenosorqtl', set_name)\n",
    "results_dir <- file.path('/data/CARDPB/data/NABEC/projects/QTL_paper_2024/newSV-mQTL/results', set_name)\n",
    "\n",
    "# Files\n",
    "used_samples_list_file <- file.path(info_dir, paste0(set_name, '.samples'))\n",
    "cis_meth_indep_file <- file.path(results_dir, paste0(set_name, '.cis.indep.csv'))\n",
    "cis_meth_map_file <- file.path(tensorqtl_dir, paste0(set_name, '.cis.map.csv'))\n",
    "cis_meth_file <- file.path(tensorqtl_dir, paste0(set_name,\".cis_qtl_pairs.\"))"
   ]
  },
  {
   "cell_type": "code",
   "execution_count": 9,
   "id": "0b4d1c13-5d43-4f6c-a1e4-8d2e58a5823a",
   "metadata": {},
   "outputs": [],
   "source": [
    "eQTL_data = read.table(cis_map_file, sep=',',header = 1)\n",
    "mQTL_data = read.table(cis_meth_map_file, sep=',', header =1)\n",
    "exp_meth_data = read.table(cis_exp_meth_file, sep=',', header= 1)"
   ]
  },
  {
   "cell_type": "markdown",
   "id": "dcb2bd5a-7af8-4b89-8745-683b1d659104",
   "metadata": {},
   "source": [
    "## filter exp_data and gene ~ meth data by qval < 0.05"
   ]
  },
  {
   "cell_type": "code",
   "execution_count": 10,
   "id": "64625720-9c8e-4928-93b2-29747670aedb",
   "metadata": {},
   "outputs": [],
   "source": [
    "filtered_exp_data <- eQTL_data[eQTL_data$qval < 0.05, ]\n",
    "filtered_exp_meth_data <- exp_meth_data[exp_meth_data$qval < 0.05, ]"
   ]
  },
  {
   "cell_type": "code",
   "execution_count": null,
   "id": "5253419b-076a-4a98-8014-9962c769c671",
   "metadata": {},
   "outputs": [],
   "source": [
    "#format the file\n",
    "filtered_exp_data$new_variant_id <- gsub(\"napu_\", \"\", filtered_exp_data$variant_id)\n",
    "filtered_exp_data$chr <- sapply(strsplit(filtered_exp_data$new_variant_id, \"_|:\"), `[`, 1)\n",
    "filtered_exp_data$position <- sapply(strsplit(filtered_exp_data$new_variant_id, \"_|:\"), `[`, 2)"
   ]
  },
  {
   "cell_type": "code",
   "execution_count": 14,
   "id": "47f47b99-41ea-4d6f-9705-d02e72c06192",
   "metadata": {},
   "outputs": [],
   "source": [
    "#check the overlap of eQTL eGenes and sig hits of gene ~ meth\n",
    "filtered_exp_meth_data <- exp_meth_data %>% filter(phenotype_id %in% filtered_exp_data$phenotype_id, qval < 0.05)"
   ]
  },
  {
   "cell_type": "code",
   "execution_count": null,
   "id": "e85ae6d0-e5c8-454d-950a-42b094dba407",
   "metadata": {},
   "outputs": [],
   "source": [
    "#format the file\n",
    "filtered_exp_meth_data$new_variant_id <- gsub(\"napu_\", \"\", filtered_exp_meth_data$variant_id)\n",
    "filtered_exp_meth_data$chr <- sapply(strsplit(filtered_exp_meth_data$new_variant_id, \"_\"), `[`, 1)"
   ]
  },
  {
   "cell_type": "code",
   "execution_count": 17,
   "id": "fe833e05-191e-41bb-bde6-735def7eb5bb",
   "metadata": {},
   "outputs": [],
   "source": [
    "#extract the eGenes which were also hit in gene ~ meth"
   ]
  },
  {
   "cell_type": "code",
   "execution_count": 18,
   "id": "b5a9a77c-91ad-4fe1-ac73-73b4ffb4bf4b",
   "metadata": {},
   "outputs": [],
   "source": [
    "eGenes <- filtered_exp_data$phenotype_id"
   ]
  },
  {
   "cell_type": "code",
   "execution_count": 19,
   "id": "00aa2de3-3c0d-4c57-b277-b187502f048b",
   "metadata": {},
   "outputs": [],
   "source": [
    "target_data <- filtered_exp_meth_data[filtered_exp_meth_data$phenotype_id %in% eGenes, c('phenotype_id','chr')]"
   ]
  },
  {
   "cell_type": "markdown",
   "id": "7c620816-5a9b-4c50-81c2-1f9c54ce5a0d",
   "metadata": {},
   "source": [
    "##  run colocalization for common eGenes and all meth region in mQTL (pval_nominal < 0.05) "
   ]
  },
  {
   "cell_type": "code",
   "execution_count": null,
   "id": "d96812b4-2d97-465d-aef6-397ae5a1b468",
   "metadata": {
    "scrolled": true
   },
   "outputs": [],
   "source": [
    "# Initialize an empty data frame to store results\n",
    "coloc_results <- data.frame(\n",
    "  phenotype_id = character(),\n",
    "  variant_id = character(),\n",
    "  PP.H0 = numeric(),\n",
    "  PP.H1 = numeric(),\n",
    "  PP.H2 = numeric(),\n",
    "  PP.H3 = numeric(),\n",
    "  PP.H4 = numeric(),\n",
    "  stringsAsFactors = FALSE\n",
    ")\n",
    "\n",
    "# Loop through each row in the filtered_exp_data data frame\n",
    "apply(target_data, 1, function(row) {\n",
    "  chr <- row[\"chr\"]\n",
    "  eQTL_gene <- row[\"phenotype_id\"]\n",
    "  print(eQTL_gene)\n",
    "  print(chr)\n",
    "  # Construct the file paths\n",
    "  cis_exp_file_chr <- file.path(paste0(cis_exp_file, chr, \".parquet\"))\n",
    "  cis_meth_file_chr <- file.path(paste0(cis_meth_file, chr, \".parquet\"))\n",
    "  cis_exp_meth_raw_file_chr <- file.path(paste0(cis_exp_meth_raw_file, chr, \".parquet\"))\n",
    "\n",
    "  # Read the parquet files\n",
    "  temp_exp <- arrow::read_parquet(cis_exp_file_chr)\n",
    "  temp_meth <- arrow::read_parquet(cis_meth_file_chr)\n",
    "  temp_cis_exp_meth <- arrow::read_parquet(cis_exp_meth_raw_file_chr)\n",
    "\n",
    "  target_regions <- temp_cis_exp_meth[temp_cis_exp_meth$phenotype_id == eQTL_gene & temp_cis_exp_meth$pval_nominal < 0.05, ]$variant_id\n",
    "\n",
    "  # Subset temp_meth for each phenotype_id\n",
    "  temp_exp_filtered <- temp_exp[temp_exp$phenotype_id == eQTL_gene, ]\n",
    "  # Select and rename columns for both datasets\n",
    "  temp_exp_filtered <- temp_exp_filtered[, c(\"variant_id\", \"slope\", \"slope_se\", \"af\", \"pval_nominal\")]\n",
    "  #remove na of pvalue\n",
    "  temp_exp_filtered <- subset(temp_exp_filtered, !is.na(pval_nominal))\n",
    "\n",
    "  colnames(temp_exp_filtered) <- c(\"snp\", \"beta\", \"varbeta\", \"maf\",\"pval_nominal\")\n",
    "  temp_exp_filtered$N <- eQTL_samplesize\n",
    "    \n",
    "  for (current_phenotype_id in target_regions) {\n",
    "    meth_subset <- temp_meth[temp_meth$phenotype_id == current_phenotype_id, ]\n",
    "    print(current_phenotype_id)\n",
    "\n",
    "    \n",
    "    meth_subset <- meth_subset[, c(\"variant_id\", \"slope\", \"slope_se\", \"af\", \"pval_nominal\")]\n",
    "\n",
    "    #remove na of pvalue\n",
    "    meth_subset <- subset(meth_subset, !is.na(pval_nominal))\n",
    "    colnames(meth_subset) <- c(\"snp\", \"beta\", \"varbeta\", \"maf\",  \"pval_nominal\")\n",
    "    meth_subset$N <- mQTL_samplesize\n",
    "\n",
    "    result <- coloc.abf(\n",
    "      dataset1 = list(snp = temp_exp_filtered$snp, pvalues = temp_exp_filtered$pval_nominal,\n",
    "                      MAF = temp_exp_filtered$maf, N = eQTL_samplesize, type = type),\n",
    "      dataset2 = list(snp = meth_subset$snp, pvalues = meth_subset$pval_nominal,\n",
    "                      MAF = meth_subset$maf, N = mQTL_samplesize, type = type)\n",
    "    )    \n",
    "    # Extract result summary\n",
    "    summary <- result$summary\n",
    "\n",
    "    print(summary)\n",
    "    \n",
    "    # Append the result to coloc_results\n",
    "    coloc_results <<- rbind(coloc_results, data.frame(\n",
    "      phenotype_id = current_phenotype_id,\n",
    "      variant_id = eQTL_gene, # Replace with the appropriate value if required\n",
    "      PP.H0 = summary[\"PP.H0.abf\"],\n",
    "      PP.H1 = summary[\"PP.H1.abf\"],\n",
    "      PP.H2 = summary[\"PP.H2.abf\"],\n",
    "      PP.H3 = summary[\"PP.H3.abf\"],\n",
    "      PP.H4 = summary[\"PP.H4.abf\"]\n",
    "    ))\n",
    "  }\n",
    "})\n",
    "\n",
    "# coloc_results will contain the combined results for all phenotype_id values.\n",
    "# Check final results\n",
    "# Save coloc_results to a CSV file with meth included in the filename\n",
    "write.csv(coloc_results, paste0(\"coloc_expression_\", meth,\"_\",cohort,\"_\" varianttype_caller,\"_results_Nov20_pvalues.csv\"), row.names = FALSE)"
   ]
  },
  {
   "cell_type": "code",
   "execution_count": 5,
   "id": "6348a566-f3a1-485f-a783-5d95c0e98dd9",
   "metadata": {},
   "outputs": [],
   "source": [
    "## Count the number of the eGenes which is overlapped with the hit of gene ~ meth & the gene ~ meth included the mQTL hits"
   ]
  },
  {
   "cell_type": "code",
   "execution_count": null,
   "id": "449318ff-a1a1-4235-9905-4fcb2bb9641b",
   "metadata": {},
   "outputs": [],
   "source": [
    "filtered_exp_data <- eQTL_data[eQTL_data$qval < 0.05, ]\n",
    "filtered_exp_meth_data <- exp_meth_data[exp_meth_data$qval < 0.05, ]\n",
    "filtered_meth_data <- mQTL_data[mQTL_data$qval < 0.05, ]"
   ]
  },
  {
   "cell_type": "code",
   "execution_count": null,
   "id": "b6a64b95-6da1-4667-9420-9f397b3d654f",
   "metadata": {
    "scrolled": true
   },
   "outputs": [],
   "source": [
    "# Load necessary libraries\n",
    "library(arrow)\n",
    "library(dplyr)\n",
    "\n",
    "# Extract the first row as a subset\n",
    "#one_row <- target_data[1, , drop = FALSE] \n",
    "\n",
    "gene_count <- 0  # Initialize gene count\n",
    "\n",
    "# Iterate over each row\n",
    "apply(target_data, 1, function(row) {\n",
    "  chr <- row[\"chr\"]\n",
    "  eQTL_gene <- row[\"phenotype_id\"]\n",
    "  \n",
    "  print(eQTL_gene)\n",
    "  print(chr)\n",
    "  \n",
    "  # Construct file paths\n",
    "  cis_exp_file_chr <- file.path(paste0(cis_exp_file, chr, \".parquet\"))\n",
    "  cis_meth_file_chr <- file.path(paste0(cis_meth_file, chr, \".parquet\"))\n",
    "  cis_exp_meth_raw_file_chr <- file.path(paste0(cis_exp_meth_raw_file, chr, \".parquet\"))\n",
    "  \n",
    "  # Read the Parquet files\n",
    "  temp_exp <- arrow::read_parquet(cis_exp_file_chr)\n",
    "  temp_meth <- arrow::read_parquet(cis_meth_file_chr)\n",
    "  temp_cis_exp_meth <- arrow::read_parquet(cis_exp_meth_raw_file_chr)\n",
    "  \n",
    "  # Fetch the p-value threshold\n",
    "  pval_threshold <- filtered_exp_meth_data %>%\n",
    "    filter(phenotype_id == eQTL_gene) %>%\n",
    "    pull(pval_nominal)\n",
    "  \n",
    "  # Extract significant methylation cites\n",
    "  extract_sig_meth_cites <- temp_cis_exp_meth %>%\n",
    "    filter(phenotype_id == eQTL_gene, pval_nominal <= pval_threshold) %>%\n",
    "    pull(variant_id)\n",
    "  \n",
    "  print(extract_sig_meth_cites)  # Optional debug print\n",
    "  \n",
    "  # Loop through significant methylation cites\n",
    "  for (meth_cite in extract_sig_meth_cites) {\n",
    "    if (nrow(filtered_meth_data[filtered_meth_data$phenotype_id == meth_cite, ]) > 0) {\n",
    "      gene_count <<- gene_count + 1  # Increment gene count\n",
    "      break  # Exit loop after incrementing\n",
    "    }\n",
    "  }\n",
    "})\n",
    "# After calculating gene_count, write it to a text file\n",
    "output_file <- paste0(set_name, \"_gene_count.txt\") \n",
    "write(gene_count, file = output_file)  "
   ]
  },
  {
   "cell_type": "markdown",
   "id": "83fbbfd3-1f82-4c5c-ad21-23a05081c988",
   "metadata": {},
   "source": [
    "## check if the colocalized eQTL mQTL pairs shared the likely effector variant"
   ]
  },
  {
   "cell_type": "code",
   "execution_count": 10,
   "id": "6d571fde-04d1-42d6-82e8-d43504bcb9e0",
   "metadata": {},
   "outputs": [],
   "source": [
    "filtered_exp_data <- eQTL_data[eQTL_data$qval < 0.05, ]\n",
    "filtered_exp_meth_data <- exp_meth_data[exp_meth_data$qval < 0.05, ]\n",
    "filtered_meth_data <- mQTL_data[mQTL_data$qval < 0.05, ]"
   ]
  },
  {
   "cell_type": "code",
   "execution_count": null,
   "id": "66836b97-1fac-4db2-b684-03eb6529c129",
   "metadata": {
    "scrolled": true
   },
   "outputs": [],
   "source": [
    "coloc_results_read <- coloc_results %>% filter(PP.H4 > 0.6)"
   ]
  },
  {
   "cell_type": "code",
   "execution_count": 12,
   "id": "58575cfd-e14f-4e16-98f1-0a2380523122",
   "metadata": {},
   "outputs": [],
   "source": [
    "if (cohort == \"nabec\") {\n",
    "  coloc_version <- \"July_2024\"\n",
    "  RNA_varianttype_caller <- paste0('rna_TPM_',varianttype_caller, \"_prun\") \n",
    "} else if (cohort == \"hbcc\") {\n",
    "  coloc_version <- \"Nov_2024\"\n",
    "  RNA_varianttype_caller <- paste0('rna_TPM_',varianttype_caller) \n",
    "}\n",
    "\n",
    "\n",
    "mQTL_coloc <- paste0(\"/data/CARDPB/data/NABEC/projects/QTL_paper_2024/newSV-eQTL/analysis/CAVIAR/\",cohort, \"_\", coloc_version, \"_\", RNA_varianttype_caller, \"_results.csv\")\n",
    "eQTL_coloc <- paste0(\"/data/CARDPB/data/NABEC/projects/QTL_paper_2024/newSV-eQTL/analysis/CAVIAR/\",cohort, \"_\", version, \"_\", meth ,\"_\", varianttype_caller, \"_results.csv\")\n",
    "\n",
    "CAVIAR_eQTL <- read.csv(mQTL_coloc)\n",
    "CAVIAR_mQTL <- read.csv(eQTL_coloc)\n",
    "\n",
    "SV_CAVIAR_eQTL <- CAVIAR_eQTL[CAVIAR_eQTL$TOP.SV.Causal.Post.Probablity\t>= CAVIAR_eQTL$TOP.SNV.Causal.Post.Probablity, ]\n",
    "SV_CAVIAR_mQTL <- CAVIAR_mQTL[CAVIAR_mQTL$TOP.SV.Causal.Post.Probablity\t>= CAVIAR_mQTL$TOP.SNV.Causal.Post.Probablity, ]"
   ]
  },
  {
   "cell_type": "code",
   "execution_count": null,
   "id": "f070cccb-133d-4c2e-a691-5bbec18546df",
   "metadata": {
    "scrolled": true
   },
   "outputs": [],
   "source": [
    "# Initialize a counter and a list to store pairs with common variants\n",
    "common_count <- 0\n",
    "common_pairs <- list()\n",
    "\n",
    "# Apply function to each row\n",
    "apply(coloc_results_read, 1, function(row) {\n",
    "  mQTL_hit <- row[\"phenotype_id\"]\n",
    "  eQTL_hit <- row[\"variant_id\"]\n",
    "  \n",
    "  # Get the variant_id for eQTL and mQTL\n",
    "  eQTL_variant <- SV_CAVIAR_eQTL[SV_CAVIAR_eQTL$phenotype_id == eQTL_hit, ]$TOP.SV.ID\n",
    "  mQTL_variant <- SV_CAVIAR_mQTL[SV_CAVIAR_mQTL$phenotype_id == mQTL_hit, ]$TOP.SV.ID \n",
    "\n",
    "  # Skip if both eQTL_variant and mQTL_variant are NA\n",
    "  if (all(is.na(eQTL_variant)) && all(is.na(mQTL_variant))) {\n",
    "    return(NULL)  # Skip this iteration\n",
    "  }\n",
    "\n",
    "  # Check if they are common\n",
    "  if (length(eQTL_variant) > 0 && length(mQTL_variant) > 0) {\n",
    "    common_variants <- intersect(eQTL_variant, mQTL_variant)\n",
    "    common_variants <- common_variants[!is.na(common_variants)]\n",
    "    if (length(common_variants) > 0) {\n",
    "      # Increment the counter and store the pair\n",
    "      common_count <<- common_count + 1\n",
    "      common_pairs[[length(common_pairs) + 1]] <<- list(\n",
    "        mQTL_hit = mQTL_hit,\n",
    "        eQTL_hit = eQTL_hit,\n",
    "        common_variants = common_variants\n",
    "      )\n",
    "    }\n",
    "  }\n",
    "})\n",
    "\n",
    "# Print the total number of pairs with common variants\n",
    "print(paste(\"Number of pairs with common variants:\", common_count))\n",
    "\n",
    "# Convert common pairs to a data frame for easier viewing (optional)\n",
    "common_pairs_df <- do.call(rbind, lapply(common_pairs, as.data.frame))\n",
    "print(common_pairs_df)\n"
   ]
  },
  {
   "cell_type": "code",
   "execution_count": null,
   "id": "aee4a03b-6256-4928-9376-211032899f95",
   "metadata": {},
   "outputs": [],
   "source": []
  },
  {
   "cell_type": "code",
   "execution_count": null,
   "id": "0764f477-2482-490c-b3c1-8c15d1c72dcf",
   "metadata": {},
   "outputs": [],
   "source": []
  },
  {
   "cell_type": "code",
   "execution_count": null,
   "id": "d49c95ce-d352-4ada-a058-fa0c23f7edca",
   "metadata": {},
   "outputs": [],
   "source": []
  }
 ],
 "metadata": {
  "kernelspec": {
   "display_name": "R/4.2",
   "language": "R",
   "name": "ir42"
  },
  "language_info": {
   "codemirror_mode": "r",
   "file_extension": ".r",
   "mimetype": "text/x-r-source",
   "name": "R",
   "pygments_lexer": "r",
   "version": "4.2.2"
  }
 },
 "nbformat": 4,
 "nbformat_minor": 5
}
